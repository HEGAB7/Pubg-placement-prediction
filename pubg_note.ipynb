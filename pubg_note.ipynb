{
 "cells": [
  {
   "cell_type": "code",
   "execution_count": 1,
   "metadata": {
    "_cell_guid": "b1076dfc-b9ad-4769-8c92-a6c4dae69d19",
    "_uuid": "8f2839f25d086af736a60e9eeb907d3b93b6e0e5",
    "execution": {
     "iopub.execute_input": "2020-08-26T00:59:23.294295Z",
     "iopub.status.busy": "2020-08-26T00:59:23.293417Z",
     "iopub.status.idle": "2020-08-26T00:59:23.300725Z",
     "shell.execute_reply": "2020-08-26T00:59:23.299909Z"
    },
    "papermill": {
     "duration": 0.039354,
     "end_time": "2020-08-26T00:59:23.300874",
     "exception": false,
     "start_time": "2020-08-26T00:59:23.261520",
     "status": "completed"
    },
    "tags": []
   },
   "outputs": [
    {
     "name": "stdout",
     "output_type": "stream",
     "text": [
      "/kaggle/input/pubg-finish-placement-prediction/test_V2.csv\n",
      "/kaggle/input/pubg-finish-placement-prediction/train_V2.csv\n",
      "/kaggle/input/pubg-finish-placement-prediction/sample_submission_V2.csv\n"
     ]
    }
   ],
   "source": [
    "import numpy as np # linear algebra\n",
    "import pandas as pd # data processing\n",
    "\n",
    "\n",
    "import os\n",
    "for dirname, _, filenames in os.walk('/kaggle/input'):\n",
    "    for filename in filenames:\n",
    "        print(os.path.join(dirname, filename))"
   ]
  },
  {
   "cell_type": "markdown",
   "execution_count": null,
   "metadata": {
    "papermill": {
     "duration": 0.021277,
     "end_time": "2020-08-26T00:59:23.345330",
     "exception": false,
     "start_time": "2020-08-26T00:59:23.324053",
     "status": "completed"
    },
    "tags": []
   },
   "source": [
    "# Getting the data"
   ]
  },
  {
   "cell_type": "code",
   "execution_count": 2,
   "metadata": {
    "_cell_guid": "79c7e3d0-c299-4dcb-8224-4455121ee9b0",
    "_uuid": "d629ff2d2480ee46fbb7e2d37f6b5fab8052498a",
    "execution": {
     "iopub.execute_input": "2020-08-26T00:59:23.397992Z",
     "iopub.status.busy": "2020-08-26T00:59:23.397115Z",
     "iopub.status.idle": "2020-08-26T00:59:50.319006Z",
     "shell.execute_reply": "2020-08-26T00:59:50.318245Z"
    },
    "papermill": {
     "duration": 26.952033,
     "end_time": "2020-08-26T00:59:50.319178",
     "exception": false,
     "start_time": "2020-08-26T00:59:23.367145",
     "status": "completed"
    },
    "tags": []
   },
   "outputs": [],
   "source": [
    "df=pd.read_csv('/kaggle/input/pubg-finish-placement-prediction/train_V2.csv')"
   ]
  },
  {
   "cell_type": "code",
   "execution_count": 3,
   "metadata": {
    "execution": {
     "iopub.execute_input": "2020-08-26T00:59:50.371247Z",
     "iopub.status.busy": "2020-08-26T00:59:50.370134Z",
     "iopub.status.idle": "2020-08-26T00:59:50.372982Z",
     "shell.execute_reply": "2020-08-26T00:59:50.373564Z"
    },
    "papermill": {
     "duration": 0.032041,
     "end_time": "2020-08-26T00:59:50.373757",
     "exception": false,
     "start_time": "2020-08-26T00:59:50.341716",
     "status": "completed"
    },
    "tags": []
   },
   "outputs": [],
   "source": [
    "pd.set_option('display.max_columns', None)"
   ]
  },
  {
   "cell_type": "code",
   "execution_count": 4,
   "metadata": {
    "execution": {
     "iopub.execute_input": "2020-08-26T00:59:50.429246Z",
     "iopub.status.busy": "2020-08-26T00:59:50.428194Z",
     "iopub.status.idle": "2020-08-26T00:59:50.467992Z",
     "shell.execute_reply": "2020-08-26T00:59:50.467233Z"
    },
    "papermill": {
     "duration": 0.07157,
     "end_time": "2020-08-26T00:59:50.468129",
     "exception": false,
     "start_time": "2020-08-26T00:59:50.396559",
     "status": "completed"
    },
    "tags": []
   },
   "outputs": [
    {
     "data": {
      "text/html": [
       "<div>\n",
       "<style scoped>\n",
       "    .dataframe tbody tr th:only-of-type {\n",
       "        vertical-align: middle;\n",
       "    }\n",
       "\n",
       "    .dataframe tbody tr th {\n",
       "        vertical-align: top;\n",
       "    }\n",
       "\n",
       "    .dataframe thead th {\n",
       "        text-align: right;\n",
       "    }\n",
       "</style>\n",
       "<table border=\"1\" class=\"dataframe\">\n",
       "  <thead>\n",
       "    <tr style=\"text-align: right;\">\n",
       "      <th></th>\n",
       "      <th>Id</th>\n",
       "      <th>groupId</th>\n",
       "      <th>matchId</th>\n",
       "      <th>assists</th>\n",
       "      <th>boosts</th>\n",
       "      <th>damageDealt</th>\n",
       "      <th>DBNOs</th>\n",
       "      <th>headshotKills</th>\n",
       "      <th>heals</th>\n",
       "      <th>killPlace</th>\n",
       "      <th>killPoints</th>\n",
       "      <th>kills</th>\n",
       "      <th>killStreaks</th>\n",
       "      <th>longestKill</th>\n",
       "      <th>matchDuration</th>\n",
       "      <th>matchType</th>\n",
       "      <th>maxPlace</th>\n",
       "      <th>numGroups</th>\n",
       "      <th>rankPoints</th>\n",
       "      <th>revives</th>\n",
       "      <th>rideDistance</th>\n",
       "      <th>roadKills</th>\n",
       "      <th>swimDistance</th>\n",
       "      <th>teamKills</th>\n",
       "      <th>vehicleDestroys</th>\n",
       "      <th>walkDistance</th>\n",
       "      <th>weaponsAcquired</th>\n",
       "      <th>winPoints</th>\n",
       "      <th>winPlacePerc</th>\n",
       "    </tr>\n",
       "  </thead>\n",
       "  <tbody>\n",
       "    <tr>\n",
       "      <th>0</th>\n",
       "      <td>7f96b2f878858a</td>\n",
       "      <td>4d4b580de459be</td>\n",
       "      <td>a10357fd1a4a91</td>\n",
       "      <td>0</td>\n",
       "      <td>0</td>\n",
       "      <td>0.00</td>\n",
       "      <td>0</td>\n",
       "      <td>0</td>\n",
       "      <td>0</td>\n",
       "      <td>60</td>\n",
       "      <td>1241</td>\n",
       "      <td>0</td>\n",
       "      <td>0</td>\n",
       "      <td>0.00</td>\n",
       "      <td>1306</td>\n",
       "      <td>squad-fpp</td>\n",
       "      <td>28</td>\n",
       "      <td>26</td>\n",
       "      <td>-1</td>\n",
       "      <td>0</td>\n",
       "      <td>0.0000</td>\n",
       "      <td>0</td>\n",
       "      <td>0.00</td>\n",
       "      <td>0</td>\n",
       "      <td>0</td>\n",
       "      <td>244.80</td>\n",
       "      <td>1</td>\n",
       "      <td>1466</td>\n",
       "      <td>0.4444</td>\n",
       "    </tr>\n",
       "    <tr>\n",
       "      <th>1</th>\n",
       "      <td>eef90569b9d03c</td>\n",
       "      <td>684d5656442f9e</td>\n",
       "      <td>aeb375fc57110c</td>\n",
       "      <td>0</td>\n",
       "      <td>0</td>\n",
       "      <td>91.47</td>\n",
       "      <td>0</td>\n",
       "      <td>0</td>\n",
       "      <td>0</td>\n",
       "      <td>57</td>\n",
       "      <td>0</td>\n",
       "      <td>0</td>\n",
       "      <td>0</td>\n",
       "      <td>0.00</td>\n",
       "      <td>1777</td>\n",
       "      <td>squad-fpp</td>\n",
       "      <td>26</td>\n",
       "      <td>25</td>\n",
       "      <td>1484</td>\n",
       "      <td>0</td>\n",
       "      <td>0.0045</td>\n",
       "      <td>0</td>\n",
       "      <td>11.04</td>\n",
       "      <td>0</td>\n",
       "      <td>0</td>\n",
       "      <td>1434.00</td>\n",
       "      <td>5</td>\n",
       "      <td>0</td>\n",
       "      <td>0.6400</td>\n",
       "    </tr>\n",
       "    <tr>\n",
       "      <th>2</th>\n",
       "      <td>1eaf90ac73de72</td>\n",
       "      <td>6a4a42c3245a74</td>\n",
       "      <td>110163d8bb94ae</td>\n",
       "      <td>1</td>\n",
       "      <td>0</td>\n",
       "      <td>68.00</td>\n",
       "      <td>0</td>\n",
       "      <td>0</td>\n",
       "      <td>0</td>\n",
       "      <td>47</td>\n",
       "      <td>0</td>\n",
       "      <td>0</td>\n",
       "      <td>0</td>\n",
       "      <td>0.00</td>\n",
       "      <td>1318</td>\n",
       "      <td>duo</td>\n",
       "      <td>50</td>\n",
       "      <td>47</td>\n",
       "      <td>1491</td>\n",
       "      <td>0</td>\n",
       "      <td>0.0000</td>\n",
       "      <td>0</td>\n",
       "      <td>0.00</td>\n",
       "      <td>0</td>\n",
       "      <td>0</td>\n",
       "      <td>161.80</td>\n",
       "      <td>2</td>\n",
       "      <td>0</td>\n",
       "      <td>0.7755</td>\n",
       "    </tr>\n",
       "    <tr>\n",
       "      <th>3</th>\n",
       "      <td>4616d365dd2853</td>\n",
       "      <td>a930a9c79cd721</td>\n",
       "      <td>f1f1f4ef412d7e</td>\n",
       "      <td>0</td>\n",
       "      <td>0</td>\n",
       "      <td>32.90</td>\n",
       "      <td>0</td>\n",
       "      <td>0</td>\n",
       "      <td>0</td>\n",
       "      <td>75</td>\n",
       "      <td>0</td>\n",
       "      <td>0</td>\n",
       "      <td>0</td>\n",
       "      <td>0.00</td>\n",
       "      <td>1436</td>\n",
       "      <td>squad-fpp</td>\n",
       "      <td>31</td>\n",
       "      <td>30</td>\n",
       "      <td>1408</td>\n",
       "      <td>0</td>\n",
       "      <td>0.0000</td>\n",
       "      <td>0</td>\n",
       "      <td>0.00</td>\n",
       "      <td>0</td>\n",
       "      <td>0</td>\n",
       "      <td>202.70</td>\n",
       "      <td>3</td>\n",
       "      <td>0</td>\n",
       "      <td>0.1667</td>\n",
       "    </tr>\n",
       "    <tr>\n",
       "      <th>4</th>\n",
       "      <td>315c96c26c9aac</td>\n",
       "      <td>de04010b3458dd</td>\n",
       "      <td>6dc8ff871e21e6</td>\n",
       "      <td>0</td>\n",
       "      <td>0</td>\n",
       "      <td>100.00</td>\n",
       "      <td>0</td>\n",
       "      <td>0</td>\n",
       "      <td>0</td>\n",
       "      <td>45</td>\n",
       "      <td>0</td>\n",
       "      <td>1</td>\n",
       "      <td>1</td>\n",
       "      <td>58.53</td>\n",
       "      <td>1424</td>\n",
       "      <td>solo-fpp</td>\n",
       "      <td>97</td>\n",
       "      <td>95</td>\n",
       "      <td>1560</td>\n",
       "      <td>0</td>\n",
       "      <td>0.0000</td>\n",
       "      <td>0</td>\n",
       "      <td>0.00</td>\n",
       "      <td>0</td>\n",
       "      <td>0</td>\n",
       "      <td>49.75</td>\n",
       "      <td>2</td>\n",
       "      <td>0</td>\n",
       "      <td>0.1875</td>\n",
       "    </tr>\n",
       "  </tbody>\n",
       "</table>\n",
       "</div>"
      ],
      "text/plain": [
       "               Id         groupId         matchId  assists  boosts  \\\n",
       "0  7f96b2f878858a  4d4b580de459be  a10357fd1a4a91        0       0   \n",
       "1  eef90569b9d03c  684d5656442f9e  aeb375fc57110c        0       0   \n",
       "2  1eaf90ac73de72  6a4a42c3245a74  110163d8bb94ae        1       0   \n",
       "3  4616d365dd2853  a930a9c79cd721  f1f1f4ef412d7e        0       0   \n",
       "4  315c96c26c9aac  de04010b3458dd  6dc8ff871e21e6        0       0   \n",
       "\n",
       "   damageDealt  DBNOs  headshotKills  heals  killPlace  killPoints  kills  \\\n",
       "0         0.00      0              0      0         60        1241      0   \n",
       "1        91.47      0              0      0         57           0      0   \n",
       "2        68.00      0              0      0         47           0      0   \n",
       "3        32.90      0              0      0         75           0      0   \n",
       "4       100.00      0              0      0         45           0      1   \n",
       "\n",
       "   killStreaks  longestKill  matchDuration  matchType  maxPlace  numGroups  \\\n",
       "0            0         0.00           1306  squad-fpp        28         26   \n",
       "1            0         0.00           1777  squad-fpp        26         25   \n",
       "2            0         0.00           1318        duo        50         47   \n",
       "3            0         0.00           1436  squad-fpp        31         30   \n",
       "4            1        58.53           1424   solo-fpp        97         95   \n",
       "\n",
       "   rankPoints  revives  rideDistance  roadKills  swimDistance  teamKills  \\\n",
       "0          -1        0        0.0000          0          0.00          0   \n",
       "1        1484        0        0.0045          0         11.04          0   \n",
       "2        1491        0        0.0000          0          0.00          0   \n",
       "3        1408        0        0.0000          0          0.00          0   \n",
       "4        1560        0        0.0000          0          0.00          0   \n",
       "\n",
       "   vehicleDestroys  walkDistance  weaponsAcquired  winPoints  winPlacePerc  \n",
       "0                0        244.80                1       1466        0.4444  \n",
       "1                0       1434.00                5          0        0.6400  \n",
       "2                0        161.80                2          0        0.7755  \n",
       "3                0        202.70                3          0        0.1667  \n",
       "4                0         49.75                2          0        0.1875  "
      ]
     },
     "execution_count": 4,
     "metadata": {},
     "output_type": "execute_result"
    }
   ],
   "source": [
    "df.head()"
   ]
  },
  {
   "cell_type": "code",
   "execution_count": 5,
   "metadata": {
    "execution": {
     "iopub.execute_input": "2020-08-26T00:59:50.520870Z",
     "iopub.status.busy": "2020-08-26T00:59:50.519717Z",
     "iopub.status.idle": "2020-08-26T00:59:50.524492Z",
     "shell.execute_reply": "2020-08-26T00:59:50.523677Z"
    },
    "papermill": {
     "duration": 0.03391,
     "end_time": "2020-08-26T00:59:50.524634",
     "exception": false,
     "start_time": "2020-08-26T00:59:50.490724",
     "status": "completed"
    },
    "tags": []
   },
   "outputs": [
    {
     "data": {
      "text/plain": [
       "(4446966, 29)"
      ]
     },
     "execution_count": 5,
     "metadata": {},
     "output_type": "execute_result"
    }
   ],
   "source": [
    "df.shape"
   ]
  },
  {
   "cell_type": "code",
   "execution_count": 6,
   "metadata": {
    "execution": {
     "iopub.execute_input": "2020-08-26T00:59:50.576753Z",
     "iopub.status.busy": "2020-08-26T00:59:50.575885Z",
     "iopub.status.idle": "2020-08-26T00:59:52.840280Z",
     "shell.execute_reply": "2020-08-26T00:59:52.839381Z"
    },
    "papermill": {
     "duration": 2.292923,
     "end_time": "2020-08-26T00:59:52.840463",
     "exception": false,
     "start_time": "2020-08-26T00:59:50.547540",
     "status": "completed"
    },
    "tags": []
   },
   "outputs": [
    {
     "data": {
      "text/plain": [
       "Id                 0\n",
       "groupId            0\n",
       "matchId            0\n",
       "assists            0\n",
       "boosts             0\n",
       "damageDealt        0\n",
       "DBNOs              0\n",
       "headshotKills      0\n",
       "heals              0\n",
       "killPlace          0\n",
       "killPoints         0\n",
       "kills              0\n",
       "killStreaks        0\n",
       "longestKill        0\n",
       "matchDuration      0\n",
       "matchType          0\n",
       "maxPlace           0\n",
       "numGroups          0\n",
       "rankPoints         0\n",
       "revives            0\n",
       "rideDistance       0\n",
       "roadKills          0\n",
       "swimDistance       0\n",
       "teamKills          0\n",
       "vehicleDestroys    0\n",
       "walkDistance       0\n",
       "weaponsAcquired    0\n",
       "winPoints          0\n",
       "winPlacePerc       1\n",
       "dtype: int64"
      ]
     },
     "execution_count": 6,
     "metadata": {},
     "output_type": "execute_result"
    }
   ],
   "source": [
    "df.isna().sum()  #we will not convert values of -1 to none ,just leave them"
   ]
  },
  {
   "cell_type": "code",
   "execution_count": 7,
   "metadata": {
    "execution": {
     "iopub.execute_input": "2020-08-26T00:59:52.897827Z",
     "iopub.status.busy": "2020-08-26T00:59:52.896257Z",
     "iopub.status.idle": "2020-08-26T00:59:52.941185Z",
     "shell.execute_reply": "2020-08-26T00:59:52.940402Z"
    },
    "papermill": {
     "duration": 0.076782,
     "end_time": "2020-08-26T00:59:52.941377",
     "exception": false,
     "start_time": "2020-08-26T00:59:52.864595",
     "status": "completed"
    },
    "tags": []
   },
   "outputs": [
    {
     "data": {
      "text/html": [
       "<div>\n",
       "<style scoped>\n",
       "    .dataframe tbody tr th:only-of-type {\n",
       "        vertical-align: middle;\n",
       "    }\n",
       "\n",
       "    .dataframe tbody tr th {\n",
       "        vertical-align: top;\n",
       "    }\n",
       "\n",
       "    .dataframe thead th {\n",
       "        text-align: right;\n",
       "    }\n",
       "</style>\n",
       "<table border=\"1\" class=\"dataframe\">\n",
       "  <thead>\n",
       "    <tr style=\"text-align: right;\">\n",
       "      <th></th>\n",
       "      <th>Id</th>\n",
       "      <th>groupId</th>\n",
       "      <th>matchId</th>\n",
       "      <th>assists</th>\n",
       "      <th>boosts</th>\n",
       "      <th>damageDealt</th>\n",
       "      <th>DBNOs</th>\n",
       "      <th>headshotKills</th>\n",
       "      <th>heals</th>\n",
       "      <th>killPlace</th>\n",
       "      <th>killPoints</th>\n",
       "      <th>kills</th>\n",
       "      <th>killStreaks</th>\n",
       "      <th>longestKill</th>\n",
       "      <th>matchDuration</th>\n",
       "      <th>matchType</th>\n",
       "      <th>maxPlace</th>\n",
       "      <th>numGroups</th>\n",
       "      <th>rankPoints</th>\n",
       "      <th>revives</th>\n",
       "      <th>rideDistance</th>\n",
       "      <th>roadKills</th>\n",
       "      <th>swimDistance</th>\n",
       "      <th>teamKills</th>\n",
       "      <th>vehicleDestroys</th>\n",
       "      <th>walkDistance</th>\n",
       "      <th>weaponsAcquired</th>\n",
       "      <th>winPoints</th>\n",
       "      <th>winPlacePerc</th>\n",
       "    </tr>\n",
       "  </thead>\n",
       "  <tbody>\n",
       "    <tr>\n",
       "      <th>2744604</th>\n",
       "      <td>f70c74418bb064</td>\n",
       "      <td>12dfbede33f92b</td>\n",
       "      <td>224a123c53e008</td>\n",
       "      <td>0</td>\n",
       "      <td>0</td>\n",
       "      <td>0.0</td>\n",
       "      <td>0</td>\n",
       "      <td>0</td>\n",
       "      <td>0</td>\n",
       "      <td>1</td>\n",
       "      <td>0</td>\n",
       "      <td>0</td>\n",
       "      <td>0</td>\n",
       "      <td>0.0</td>\n",
       "      <td>9</td>\n",
       "      <td>solo-fpp</td>\n",
       "      <td>1</td>\n",
       "      <td>1</td>\n",
       "      <td>1574</td>\n",
       "      <td>0</td>\n",
       "      <td>0.0</td>\n",
       "      <td>0</td>\n",
       "      <td>0.0</td>\n",
       "      <td>0</td>\n",
       "      <td>0</td>\n",
       "      <td>0.0</td>\n",
       "      <td>0</td>\n",
       "      <td>0</td>\n",
       "      <td>NaN</td>\n",
       "    </tr>\n",
       "  </tbody>\n",
       "</table>\n",
       "</div>"
      ],
      "text/plain": [
       "                     Id         groupId         matchId  assists  boosts  \\\n",
       "2744604  f70c74418bb064  12dfbede33f92b  224a123c53e008        0       0   \n",
       "\n",
       "         damageDealt  DBNOs  headshotKills  heals  killPlace  killPoints  \\\n",
       "2744604          0.0      0              0      0          1           0   \n",
       "\n",
       "         kills  killStreaks  longestKill  matchDuration matchType  maxPlace  \\\n",
       "2744604      0            0          0.0              9  solo-fpp         1   \n",
       "\n",
       "         numGroups  rankPoints  revives  rideDistance  roadKills  \\\n",
       "2744604          1        1574        0           0.0          0   \n",
       "\n",
       "         swimDistance  teamKills  vehicleDestroys  walkDistance  \\\n",
       "2744604           0.0          0                0           0.0   \n",
       "\n",
       "         weaponsAcquired  winPoints  winPlacePerc  \n",
       "2744604                0          0           NaN  "
      ]
     },
     "execution_count": 7,
     "metadata": {},
     "output_type": "execute_result"
    }
   ],
   "source": [
    "df[df['winPlacePerc'].isna()]"
   ]
  },
  {
   "cell_type": "code",
   "execution_count": 8,
   "metadata": {
    "execution": {
     "iopub.execute_input": "2020-08-26T00:59:52.997295Z",
     "iopub.status.busy": "2020-08-26T00:59:52.996380Z",
     "iopub.status.idle": "2020-08-26T00:59:55.401209Z",
     "shell.execute_reply": "2020-08-26T00:59:55.400169Z"
    },
    "papermill": {
     "duration": 2.435859,
     "end_time": "2020-08-26T00:59:55.401393",
     "exception": false,
     "start_time": "2020-08-26T00:59:52.965534",
     "status": "completed"
    },
    "tags": []
   },
   "outputs": [],
   "source": [
    "df=df.drop(2744604)            #dropping this nan\n",
    "df=df.reset_index(drop=True)"
   ]
  },
  {
   "cell_type": "code",
   "execution_count": 9,
   "metadata": {
    "execution": {
     "iopub.execute_input": "2020-08-26T00:59:58.582123Z",
     "iopub.status.busy": "2020-08-26T00:59:58.071752Z",
     "iopub.status.idle": "2020-08-26T00:59:58.625134Z",
     "shell.execute_reply": "2020-08-26T00:59:58.624249Z"
    },
    "papermill": {
     "duration": 3.198834,
     "end_time": "2020-08-26T00:59:58.625345",
     "exception": false,
     "start_time": "2020-08-26T00:59:55.426511",
     "status": "completed"
    },
    "tags": []
   },
   "outputs": [
    {
     "data": {
      "text/plain": [
       "ca008ce9a1339c    100\n",
       "5a25ae1d0a6719    100\n",
       "0949965644caa5    100\n",
       "a33b55305a88fd    100\n",
       "51b68a308313f9    100\n",
       "                 ... \n",
       "1f251de6c42568      7\n",
       "9f2b49358564ea      6\n",
       "39d2800dad8ae6      6\n",
       "8aa5066c4b6a79      5\n",
       "e5a77433bc436f      2\n",
       "Name: matchId, Length: 47964, dtype: int64"
      ]
     },
     "execution_count": 9,
     "metadata": {},
     "output_type": "execute_result"
    }
   ],
   "source": [
    "df.matchId.value_counts()        #it seems the data have all players os some matches \n",
    "                                 #but actually I didn't use it"
   ]
  },
  {
   "cell_type": "code",
   "execution_count": 10,
   "metadata": {
    "execution": {
     "iopub.execute_input": "2020-08-26T00:59:58.684698Z",
     "iopub.status.busy": "2020-08-26T00:59:58.683509Z",
     "iopub.status.idle": "2020-08-26T01:00:00.438424Z",
     "shell.execute_reply": "2020-08-26T01:00:00.437730Z"
    },
    "papermill": {
     "duration": 1.788499,
     "end_time": "2020-08-26T01:00:00.438575",
     "exception": false,
     "start_time": "2020-08-26T00:59:58.650076",
     "status": "completed"
    },
    "tags": []
   },
   "outputs": [
    {
     "name": "stderr",
     "output_type": "stream",
     "text": [
      "/opt/conda/lib/python3.7/site-packages/ipykernel_launcher.py:1: UserWarning: Boolean Series key will be reindexed to match DataFrame index.\n",
      "  \"\"\"Entry point for launching an IPython kernel.\n"
     ]
    },
    {
     "data": {
      "text/plain": [
       "(2655646, 29)"
      ]
     },
     "execution_count": 10,
     "metadata": {},
     "output_type": "execute_result"
    }
   ],
   "source": [
    "df[df.killPoints==0][df.rankPoints!=-1].shape    #getting the shape of 0 kill points and no rank"
   ]
  },
  {
   "cell_type": "code",
   "execution_count": 11,
   "metadata": {
    "execution": {
     "iopub.execute_input": "2020-08-26T01:00:00.496735Z",
     "iopub.status.busy": "2020-08-26T01:00:00.495817Z",
     "iopub.status.idle": "2020-08-26T01:00:01.284595Z",
     "shell.execute_reply": "2020-08-26T01:00:01.283771Z"
    },
    "papermill": {
     "duration": 0.821752,
     "end_time": "2020-08-26T01:00:01.284754",
     "exception": false,
     "start_time": "2020-08-26T01:00:00.463002",
     "status": "completed"
    },
    "tags": []
   },
   "outputs": [
    {
     "data": {
      "text/plain": [
       "(2655646, 29)"
      ]
     },
     "execution_count": 11,
     "metadata": {},
     "output_type": "execute_result"
    }
   ],
   "source": [
    "df[df.killPoints==0].shape                   #it seems all 0 kill points has no rank"
   ]
  },
  {
   "cell_type": "code",
   "execution_count": 12,
   "metadata": {
    "execution": {
     "iopub.execute_input": "2020-08-26T01:00:01.842716Z",
     "iopub.status.busy": "2020-08-26T01:00:01.841572Z",
     "iopub.status.idle": "2020-08-26T01:00:05.592296Z",
     "shell.execute_reply": "2020-08-26T01:00:05.593036Z"
    },
    "papermill": {
     "duration": 4.28423,
     "end_time": "2020-08-26T01:00:05.593316",
     "exception": false,
     "start_time": "2020-08-26T01:00:01.309086",
     "status": "completed"
    },
    "tags": []
   },
   "outputs": [
    {
     "data": {
      "text/html": [
       "<div>\n",
       "<style scoped>\n",
       "    .dataframe tbody tr th:only-of-type {\n",
       "        vertical-align: middle;\n",
       "    }\n",
       "\n",
       "    .dataframe tbody tr th {\n",
       "        vertical-align: top;\n",
       "    }\n",
       "\n",
       "    .dataframe thead th {\n",
       "        text-align: right;\n",
       "    }\n",
       "</style>\n",
       "<table border=\"1\" class=\"dataframe\">\n",
       "  <thead>\n",
       "    <tr style=\"text-align: right;\">\n",
       "      <th></th>\n",
       "      <th>assists</th>\n",
       "      <th>boosts</th>\n",
       "      <th>damageDealt</th>\n",
       "      <th>DBNOs</th>\n",
       "      <th>headshotKills</th>\n",
       "      <th>heals</th>\n",
       "      <th>killPlace</th>\n",
       "      <th>killPoints</th>\n",
       "      <th>kills</th>\n",
       "      <th>killStreaks</th>\n",
       "      <th>longestKill</th>\n",
       "      <th>matchDuration</th>\n",
       "      <th>maxPlace</th>\n",
       "      <th>numGroups</th>\n",
       "      <th>rankPoints</th>\n",
       "      <th>revives</th>\n",
       "      <th>rideDistance</th>\n",
       "      <th>roadKills</th>\n",
       "      <th>swimDistance</th>\n",
       "      <th>teamKills</th>\n",
       "      <th>vehicleDestroys</th>\n",
       "      <th>walkDistance</th>\n",
       "      <th>weaponsAcquired</th>\n",
       "      <th>winPoints</th>\n",
       "      <th>winPlacePerc</th>\n",
       "    </tr>\n",
       "  </thead>\n",
       "  <tbody>\n",
       "    <tr>\n",
       "      <th>count</th>\n",
       "      <td>4.446965e+06</td>\n",
       "      <td>4.446965e+06</td>\n",
       "      <td>4.446965e+06</td>\n",
       "      <td>4.446965e+06</td>\n",
       "      <td>4.446965e+06</td>\n",
       "      <td>4.446965e+06</td>\n",
       "      <td>4.446965e+06</td>\n",
       "      <td>4.446965e+06</td>\n",
       "      <td>4.446965e+06</td>\n",
       "      <td>4.446965e+06</td>\n",
       "      <td>4.446965e+06</td>\n",
       "      <td>4.446965e+06</td>\n",
       "      <td>4.446965e+06</td>\n",
       "      <td>4.446965e+06</td>\n",
       "      <td>4.446965e+06</td>\n",
       "      <td>4.446965e+06</td>\n",
       "      <td>4.446965e+06</td>\n",
       "      <td>4.446965e+06</td>\n",
       "      <td>4.446965e+06</td>\n",
       "      <td>4.446965e+06</td>\n",
       "      <td>4.446965e+06</td>\n",
       "      <td>4.446965e+06</td>\n",
       "      <td>4.446965e+06</td>\n",
       "      <td>4.446965e+06</td>\n",
       "      <td>4.446965e+06</td>\n",
       "    </tr>\n",
       "    <tr>\n",
       "      <th>mean</th>\n",
       "      <td>2.338150e-01</td>\n",
       "      <td>1.106908e+00</td>\n",
       "      <td>1.307172e+02</td>\n",
       "      <td>6.578757e-01</td>\n",
       "      <td>2.268196e-01</td>\n",
       "      <td>1.370148e+00</td>\n",
       "      <td>4.759936e+01</td>\n",
       "      <td>5.050062e+02</td>\n",
       "      <td>9.247835e-01</td>\n",
       "      <td>5.439553e-01</td>\n",
       "      <td>2.299760e+01</td>\n",
       "      <td>1.579507e+03</td>\n",
       "      <td>4.450468e+01</td>\n",
       "      <td>4.300760e+01</td>\n",
       "      <td>8.920103e+02</td>\n",
       "      <td>1.646590e-01</td>\n",
       "      <td>6.061158e+02</td>\n",
       "      <td>3.496092e-03</td>\n",
       "      <td>4.509323e+00</td>\n",
       "      <td>2.386841e-02</td>\n",
       "      <td>7.918209e-03</td>\n",
       "      <td>1.154218e+03</td>\n",
       "      <td>3.660488e+00</td>\n",
       "      <td>6.064603e+02</td>\n",
       "      <td>4.728216e-01</td>\n",
       "    </tr>\n",
       "    <tr>\n",
       "      <th>std</th>\n",
       "      <td>5.885731e-01</td>\n",
       "      <td>1.715794e+00</td>\n",
       "      <td>1.707806e+02</td>\n",
       "      <td>1.145743e+00</td>\n",
       "      <td>6.021553e-01</td>\n",
       "      <td>2.679982e+00</td>\n",
       "      <td>2.746293e+01</td>\n",
       "      <td>6.275049e+02</td>\n",
       "      <td>1.558445e+00</td>\n",
       "      <td>7.109721e-01</td>\n",
       "      <td>5.097262e+01</td>\n",
       "      <td>2.587388e+02</td>\n",
       "      <td>2.382810e+01</td>\n",
       "      <td>2.328949e+01</td>\n",
       "      <td>7.366478e+02</td>\n",
       "      <td>4.721671e-01</td>\n",
       "      <td>1.498344e+03</td>\n",
       "      <td>7.337297e-02</td>\n",
       "      <td>3.050220e+01</td>\n",
       "      <td>1.673935e-01</td>\n",
       "      <td>9.261158e-02</td>\n",
       "      <td>1.183497e+03</td>\n",
       "      <td>2.456543e+00</td>\n",
       "      <td>7.397005e+02</td>\n",
       "      <td>3.074050e-01</td>\n",
       "    </tr>\n",
       "    <tr>\n",
       "      <th>min</th>\n",
       "      <td>0.000000e+00</td>\n",
       "      <td>0.000000e+00</td>\n",
       "      <td>0.000000e+00</td>\n",
       "      <td>0.000000e+00</td>\n",
       "      <td>0.000000e+00</td>\n",
       "      <td>0.000000e+00</td>\n",
       "      <td>1.000000e+00</td>\n",
       "      <td>0.000000e+00</td>\n",
       "      <td>0.000000e+00</td>\n",
       "      <td>0.000000e+00</td>\n",
       "      <td>0.000000e+00</td>\n",
       "      <td>1.330000e+02</td>\n",
       "      <td>2.000000e+00</td>\n",
       "      <td>1.000000e+00</td>\n",
       "      <td>-1.000000e+00</td>\n",
       "      <td>0.000000e+00</td>\n",
       "      <td>0.000000e+00</td>\n",
       "      <td>0.000000e+00</td>\n",
       "      <td>0.000000e+00</td>\n",
       "      <td>0.000000e+00</td>\n",
       "      <td>0.000000e+00</td>\n",
       "      <td>0.000000e+00</td>\n",
       "      <td>0.000000e+00</td>\n",
       "      <td>0.000000e+00</td>\n",
       "      <td>0.000000e+00</td>\n",
       "    </tr>\n",
       "    <tr>\n",
       "      <th>25%</th>\n",
       "      <td>0.000000e+00</td>\n",
       "      <td>0.000000e+00</td>\n",
       "      <td>0.000000e+00</td>\n",
       "      <td>0.000000e+00</td>\n",
       "      <td>0.000000e+00</td>\n",
       "      <td>0.000000e+00</td>\n",
       "      <td>2.400000e+01</td>\n",
       "      <td>0.000000e+00</td>\n",
       "      <td>0.000000e+00</td>\n",
       "      <td>0.000000e+00</td>\n",
       "      <td>0.000000e+00</td>\n",
       "      <td>1.367000e+03</td>\n",
       "      <td>2.800000e+01</td>\n",
       "      <td>2.700000e+01</td>\n",
       "      <td>-1.000000e+00</td>\n",
       "      <td>0.000000e+00</td>\n",
       "      <td>0.000000e+00</td>\n",
       "      <td>0.000000e+00</td>\n",
       "      <td>0.000000e+00</td>\n",
       "      <td>0.000000e+00</td>\n",
       "      <td>0.000000e+00</td>\n",
       "      <td>1.551000e+02</td>\n",
       "      <td>2.000000e+00</td>\n",
       "      <td>0.000000e+00</td>\n",
       "      <td>2.000000e-01</td>\n",
       "    </tr>\n",
       "    <tr>\n",
       "      <th>50%</th>\n",
       "      <td>0.000000e+00</td>\n",
       "      <td>0.000000e+00</td>\n",
       "      <td>8.424000e+01</td>\n",
       "      <td>0.000000e+00</td>\n",
       "      <td>0.000000e+00</td>\n",
       "      <td>0.000000e+00</td>\n",
       "      <td>4.700000e+01</td>\n",
       "      <td>0.000000e+00</td>\n",
       "      <td>0.000000e+00</td>\n",
       "      <td>0.000000e+00</td>\n",
       "      <td>0.000000e+00</td>\n",
       "      <td>1.438000e+03</td>\n",
       "      <td>3.000000e+01</td>\n",
       "      <td>3.000000e+01</td>\n",
       "      <td>1.443000e+03</td>\n",
       "      <td>0.000000e+00</td>\n",
       "      <td>0.000000e+00</td>\n",
       "      <td>0.000000e+00</td>\n",
       "      <td>0.000000e+00</td>\n",
       "      <td>0.000000e+00</td>\n",
       "      <td>0.000000e+00</td>\n",
       "      <td>6.856000e+02</td>\n",
       "      <td>3.000000e+00</td>\n",
       "      <td>0.000000e+00</td>\n",
       "      <td>4.583000e-01</td>\n",
       "    </tr>\n",
       "    <tr>\n",
       "      <th>75%</th>\n",
       "      <td>0.000000e+00</td>\n",
       "      <td>2.000000e+00</td>\n",
       "      <td>1.860000e+02</td>\n",
       "      <td>1.000000e+00</td>\n",
       "      <td>0.000000e+00</td>\n",
       "      <td>2.000000e+00</td>\n",
       "      <td>7.100000e+01</td>\n",
       "      <td>1.172000e+03</td>\n",
       "      <td>1.000000e+00</td>\n",
       "      <td>1.000000e+00</td>\n",
       "      <td>2.132000e+01</td>\n",
       "      <td>1.851000e+03</td>\n",
       "      <td>4.900000e+01</td>\n",
       "      <td>4.700000e+01</td>\n",
       "      <td>1.500000e+03</td>\n",
       "      <td>0.000000e+00</td>\n",
       "      <td>1.910000e-01</td>\n",
       "      <td>0.000000e+00</td>\n",
       "      <td>0.000000e+00</td>\n",
       "      <td>0.000000e+00</td>\n",
       "      <td>0.000000e+00</td>\n",
       "      <td>1.976000e+03</td>\n",
       "      <td>5.000000e+00</td>\n",
       "      <td>1.495000e+03</td>\n",
       "      <td>7.407000e-01</td>\n",
       "    </tr>\n",
       "    <tr>\n",
       "      <th>max</th>\n",
       "      <td>2.200000e+01</td>\n",
       "      <td>3.300000e+01</td>\n",
       "      <td>6.616000e+03</td>\n",
       "      <td>5.300000e+01</td>\n",
       "      <td>6.400000e+01</td>\n",
       "      <td>8.000000e+01</td>\n",
       "      <td>1.010000e+02</td>\n",
       "      <td>2.170000e+03</td>\n",
       "      <td>7.200000e+01</td>\n",
       "      <td>2.000000e+01</td>\n",
       "      <td>1.094000e+03</td>\n",
       "      <td>2.237000e+03</td>\n",
       "      <td>1.000000e+02</td>\n",
       "      <td>1.000000e+02</td>\n",
       "      <td>5.910000e+03</td>\n",
       "      <td>3.900000e+01</td>\n",
       "      <td>4.071000e+04</td>\n",
       "      <td>1.800000e+01</td>\n",
       "      <td>3.823000e+03</td>\n",
       "      <td>1.200000e+01</td>\n",
       "      <td>5.000000e+00</td>\n",
       "      <td>2.578000e+04</td>\n",
       "      <td>2.360000e+02</td>\n",
       "      <td>2.013000e+03</td>\n",
       "      <td>1.000000e+00</td>\n",
       "    </tr>\n",
       "  </tbody>\n",
       "</table>\n",
       "</div>"
      ],
      "text/plain": [
       "            assists        boosts   damageDealt         DBNOs  headshotKills  \\\n",
       "count  4.446965e+06  4.446965e+06  4.446965e+06  4.446965e+06   4.446965e+06   \n",
       "mean   2.338150e-01  1.106908e+00  1.307172e+02  6.578757e-01   2.268196e-01   \n",
       "std    5.885731e-01  1.715794e+00  1.707806e+02  1.145743e+00   6.021553e-01   \n",
       "min    0.000000e+00  0.000000e+00  0.000000e+00  0.000000e+00   0.000000e+00   \n",
       "25%    0.000000e+00  0.000000e+00  0.000000e+00  0.000000e+00   0.000000e+00   \n",
       "50%    0.000000e+00  0.000000e+00  8.424000e+01  0.000000e+00   0.000000e+00   \n",
       "75%    0.000000e+00  2.000000e+00  1.860000e+02  1.000000e+00   0.000000e+00   \n",
       "max    2.200000e+01  3.300000e+01  6.616000e+03  5.300000e+01   6.400000e+01   \n",
       "\n",
       "              heals     killPlace    killPoints         kills   killStreaks  \\\n",
       "count  4.446965e+06  4.446965e+06  4.446965e+06  4.446965e+06  4.446965e+06   \n",
       "mean   1.370148e+00  4.759936e+01  5.050062e+02  9.247835e-01  5.439553e-01   \n",
       "std    2.679982e+00  2.746293e+01  6.275049e+02  1.558445e+00  7.109721e-01   \n",
       "min    0.000000e+00  1.000000e+00  0.000000e+00  0.000000e+00  0.000000e+00   \n",
       "25%    0.000000e+00  2.400000e+01  0.000000e+00  0.000000e+00  0.000000e+00   \n",
       "50%    0.000000e+00  4.700000e+01  0.000000e+00  0.000000e+00  0.000000e+00   \n",
       "75%    2.000000e+00  7.100000e+01  1.172000e+03  1.000000e+00  1.000000e+00   \n",
       "max    8.000000e+01  1.010000e+02  2.170000e+03  7.200000e+01  2.000000e+01   \n",
       "\n",
       "        longestKill  matchDuration      maxPlace     numGroups    rankPoints  \\\n",
       "count  4.446965e+06   4.446965e+06  4.446965e+06  4.446965e+06  4.446965e+06   \n",
       "mean   2.299760e+01   1.579507e+03  4.450468e+01  4.300760e+01  8.920103e+02   \n",
       "std    5.097262e+01   2.587388e+02  2.382810e+01  2.328949e+01  7.366478e+02   \n",
       "min    0.000000e+00   1.330000e+02  2.000000e+00  1.000000e+00 -1.000000e+00   \n",
       "25%    0.000000e+00   1.367000e+03  2.800000e+01  2.700000e+01 -1.000000e+00   \n",
       "50%    0.000000e+00   1.438000e+03  3.000000e+01  3.000000e+01  1.443000e+03   \n",
       "75%    2.132000e+01   1.851000e+03  4.900000e+01  4.700000e+01  1.500000e+03   \n",
       "max    1.094000e+03   2.237000e+03  1.000000e+02  1.000000e+02  5.910000e+03   \n",
       "\n",
       "            revives  rideDistance     roadKills  swimDistance     teamKills  \\\n",
       "count  4.446965e+06  4.446965e+06  4.446965e+06  4.446965e+06  4.446965e+06   \n",
       "mean   1.646590e-01  6.061158e+02  3.496092e-03  4.509323e+00  2.386841e-02   \n",
       "std    4.721671e-01  1.498344e+03  7.337297e-02  3.050220e+01  1.673935e-01   \n",
       "min    0.000000e+00  0.000000e+00  0.000000e+00  0.000000e+00  0.000000e+00   \n",
       "25%    0.000000e+00  0.000000e+00  0.000000e+00  0.000000e+00  0.000000e+00   \n",
       "50%    0.000000e+00  0.000000e+00  0.000000e+00  0.000000e+00  0.000000e+00   \n",
       "75%    0.000000e+00  1.910000e-01  0.000000e+00  0.000000e+00  0.000000e+00   \n",
       "max    3.900000e+01  4.071000e+04  1.800000e+01  3.823000e+03  1.200000e+01   \n",
       "\n",
       "       vehicleDestroys  walkDistance  weaponsAcquired     winPoints  \\\n",
       "count     4.446965e+06  4.446965e+06     4.446965e+06  4.446965e+06   \n",
       "mean      7.918209e-03  1.154218e+03     3.660488e+00  6.064603e+02   \n",
       "std       9.261158e-02  1.183497e+03     2.456543e+00  7.397005e+02   \n",
       "min       0.000000e+00  0.000000e+00     0.000000e+00  0.000000e+00   \n",
       "25%       0.000000e+00  1.551000e+02     2.000000e+00  0.000000e+00   \n",
       "50%       0.000000e+00  6.856000e+02     3.000000e+00  0.000000e+00   \n",
       "75%       0.000000e+00  1.976000e+03     5.000000e+00  1.495000e+03   \n",
       "max       5.000000e+00  2.578000e+04     2.360000e+02  2.013000e+03   \n",
       "\n",
       "       winPlacePerc  \n",
       "count  4.446965e+06  \n",
       "mean   4.728216e-01  \n",
       "std    3.074050e-01  \n",
       "min    0.000000e+00  \n",
       "25%    2.000000e-01  \n",
       "50%    4.583000e-01  \n",
       "75%    7.407000e-01  \n",
       "max    1.000000e+00  "
      ]
     },
     "execution_count": 12,
     "metadata": {},
     "output_type": "execute_result"
    }
   ],
   "source": [
    "df.describe()          #getting the statistical analysis of the data "
   ]
  },
  {
   "cell_type": "code",
   "execution_count": 13,
   "metadata": {
    "execution": {
     "iopub.execute_input": "2020-08-26T01:00:06.869114Z",
     "iopub.status.busy": "2020-08-26T01:00:06.397971Z",
     "iopub.status.idle": "2020-08-26T01:00:06.879476Z",
     "shell.execute_reply": "2020-08-26T01:00:06.878782Z"
    },
    "papermill": {
     "duration": 1.255187,
     "end_time": "2020-08-26T01:00:06.879633",
     "exception": false,
     "start_time": "2020-08-26T01:00:05.624446",
     "status": "completed"
    },
    "tags": []
   },
   "outputs": [
    {
     "data": {
      "text/plain": [
       "squad-fpp           1756186\n",
       "duo-fpp              996691\n",
       "squad                626526\n",
       "solo-fpp             536761\n",
       "duo                  313591\n",
       "solo                 181943\n",
       "normal-squad-fpp      17174\n",
       "crashfpp               6287\n",
       "normal-duo-fpp         5489\n",
       "flaretpp               2505\n",
       "normal-solo-fpp        1682\n",
       "flarefpp                718\n",
       "normal-squad            516\n",
       "crashtpp                371\n",
       "normal-solo             326\n",
       "normal-duo              199\n",
       "Name: matchType, dtype: int64"
      ]
     },
     "execution_count": 13,
     "metadata": {},
     "output_type": "execute_result"
    }
   ],
   "source": [
    "df.matchType.value_counts() "
   ]
  },
  {
   "cell_type": "markdown",
   "execution_count": null,
   "metadata": {
    "papermill": {
     "duration": 0.024748,
     "end_time": "2020-08-26T01:00:06.929837",
     "exception": false,
     "start_time": "2020-08-26T01:00:06.905089",
     "status": "completed"
    },
    "tags": []
   },
   "source": [
    "# Visualizing the data and getting insights"
   ]
  },
  {
   "cell_type": "code",
   "execution_count": 14,
   "metadata": {
    "execution": {
     "iopub.execute_input": "2020-08-26T01:00:06.987659Z",
     "iopub.status.busy": "2020-08-26T01:00:06.986828Z",
     "iopub.status.idle": "2020-08-26T01:00:08.258167Z",
     "shell.execute_reply": "2020-08-26T01:00:08.257346Z"
    },
    "papermill": {
     "duration": 1.303579,
     "end_time": "2020-08-26T01:00:08.258374",
     "exception": false,
     "start_time": "2020-08-26T01:00:06.954795",
     "status": "completed"
    },
    "tags": []
   },
   "outputs": [],
   "source": [
    "import matplotlib.pyplot as plt\n",
    "import seaborn as sns \n",
    "%matplotlib inline"
   ]
  },
  {
   "cell_type": "code",
   "execution_count": 15,
   "metadata": {
    "execution": {
     "iopub.execute_input": "2020-08-26T01:00:08.341259Z",
     "iopub.status.busy": "2020-08-26T01:00:08.340177Z",
     "iopub.status.idle": "2020-08-26T01:00:08.346061Z",
     "shell.execute_reply": "2020-08-26T01:00:08.345185Z"
    },
    "papermill": {
     "duration": 0.062161,
     "end_time": "2020-08-26T01:00:08.346208",
     "exception": false,
     "start_time": "2020-08-26T01:00:08.284047",
     "status": "completed"
    },
    "tags": []
   },
   "outputs": [
    {
     "data": {
      "text/html": [
       "<div>\n",
       "<style scoped>\n",
       "    .dataframe tbody tr th:only-of-type {\n",
       "        vertical-align: middle;\n",
       "    }\n",
       "\n",
       "    .dataframe tbody tr th {\n",
       "        vertical-align: top;\n",
       "    }\n",
       "\n",
       "    .dataframe thead th {\n",
       "        text-align: right;\n",
       "    }\n",
       "</style>\n",
       "<table border=\"1\" class=\"dataframe\">\n",
       "  <thead>\n",
       "    <tr style=\"text-align: right;\">\n",
       "      <th></th>\n",
       "      <th>Id</th>\n",
       "      <th>groupId</th>\n",
       "      <th>matchId</th>\n",
       "      <th>assists</th>\n",
       "      <th>boosts</th>\n",
       "      <th>damageDealt</th>\n",
       "      <th>DBNOs</th>\n",
       "      <th>headshotKills</th>\n",
       "      <th>heals</th>\n",
       "      <th>killPlace</th>\n",
       "      <th>killPoints</th>\n",
       "      <th>kills</th>\n",
       "      <th>killStreaks</th>\n",
       "      <th>longestKill</th>\n",
       "      <th>matchDuration</th>\n",
       "      <th>matchType</th>\n",
       "      <th>maxPlace</th>\n",
       "      <th>numGroups</th>\n",
       "      <th>rankPoints</th>\n",
       "      <th>revives</th>\n",
       "      <th>rideDistance</th>\n",
       "      <th>roadKills</th>\n",
       "      <th>swimDistance</th>\n",
       "      <th>teamKills</th>\n",
       "      <th>vehicleDestroys</th>\n",
       "      <th>walkDistance</th>\n",
       "      <th>weaponsAcquired</th>\n",
       "      <th>winPoints</th>\n",
       "      <th>winPlacePerc</th>\n",
       "    </tr>\n",
       "  </thead>\n",
       "  <tbody>\n",
       "    <tr>\n",
       "      <th>0</th>\n",
       "      <td>7f96b2f878858a</td>\n",
       "      <td>4d4b580de459be</td>\n",
       "      <td>a10357fd1a4a91</td>\n",
       "      <td>0</td>\n",
       "      <td>0</td>\n",
       "      <td>0.00</td>\n",
       "      <td>0</td>\n",
       "      <td>0</td>\n",
       "      <td>0</td>\n",
       "      <td>60</td>\n",
       "      <td>1241</td>\n",
       "      <td>0</td>\n",
       "      <td>0</td>\n",
       "      <td>0.00</td>\n",
       "      <td>1306</td>\n",
       "      <td>squad-fpp</td>\n",
       "      <td>28</td>\n",
       "      <td>26</td>\n",
       "      <td>-1</td>\n",
       "      <td>0</td>\n",
       "      <td>0.0000</td>\n",
       "      <td>0</td>\n",
       "      <td>0.00</td>\n",
       "      <td>0</td>\n",
       "      <td>0</td>\n",
       "      <td>244.80</td>\n",
       "      <td>1</td>\n",
       "      <td>1466</td>\n",
       "      <td>0.4444</td>\n",
       "    </tr>\n",
       "    <tr>\n",
       "      <th>1</th>\n",
       "      <td>eef90569b9d03c</td>\n",
       "      <td>684d5656442f9e</td>\n",
       "      <td>aeb375fc57110c</td>\n",
       "      <td>0</td>\n",
       "      <td>0</td>\n",
       "      <td>91.47</td>\n",
       "      <td>0</td>\n",
       "      <td>0</td>\n",
       "      <td>0</td>\n",
       "      <td>57</td>\n",
       "      <td>0</td>\n",
       "      <td>0</td>\n",
       "      <td>0</td>\n",
       "      <td>0.00</td>\n",
       "      <td>1777</td>\n",
       "      <td>squad-fpp</td>\n",
       "      <td>26</td>\n",
       "      <td>25</td>\n",
       "      <td>1484</td>\n",
       "      <td>0</td>\n",
       "      <td>0.0045</td>\n",
       "      <td>0</td>\n",
       "      <td>11.04</td>\n",
       "      <td>0</td>\n",
       "      <td>0</td>\n",
       "      <td>1434.00</td>\n",
       "      <td>5</td>\n",
       "      <td>0</td>\n",
       "      <td>0.6400</td>\n",
       "    </tr>\n",
       "    <tr>\n",
       "      <th>2</th>\n",
       "      <td>1eaf90ac73de72</td>\n",
       "      <td>6a4a42c3245a74</td>\n",
       "      <td>110163d8bb94ae</td>\n",
       "      <td>1</td>\n",
       "      <td>0</td>\n",
       "      <td>68.00</td>\n",
       "      <td>0</td>\n",
       "      <td>0</td>\n",
       "      <td>0</td>\n",
       "      <td>47</td>\n",
       "      <td>0</td>\n",
       "      <td>0</td>\n",
       "      <td>0</td>\n",
       "      <td>0.00</td>\n",
       "      <td>1318</td>\n",
       "      <td>duo</td>\n",
       "      <td>50</td>\n",
       "      <td>47</td>\n",
       "      <td>1491</td>\n",
       "      <td>0</td>\n",
       "      <td>0.0000</td>\n",
       "      <td>0</td>\n",
       "      <td>0.00</td>\n",
       "      <td>0</td>\n",
       "      <td>0</td>\n",
       "      <td>161.80</td>\n",
       "      <td>2</td>\n",
       "      <td>0</td>\n",
       "      <td>0.7755</td>\n",
       "    </tr>\n",
       "    <tr>\n",
       "      <th>3</th>\n",
       "      <td>4616d365dd2853</td>\n",
       "      <td>a930a9c79cd721</td>\n",
       "      <td>f1f1f4ef412d7e</td>\n",
       "      <td>0</td>\n",
       "      <td>0</td>\n",
       "      <td>32.90</td>\n",
       "      <td>0</td>\n",
       "      <td>0</td>\n",
       "      <td>0</td>\n",
       "      <td>75</td>\n",
       "      <td>0</td>\n",
       "      <td>0</td>\n",
       "      <td>0</td>\n",
       "      <td>0.00</td>\n",
       "      <td>1436</td>\n",
       "      <td>squad-fpp</td>\n",
       "      <td>31</td>\n",
       "      <td>30</td>\n",
       "      <td>1408</td>\n",
       "      <td>0</td>\n",
       "      <td>0.0000</td>\n",
       "      <td>0</td>\n",
       "      <td>0.00</td>\n",
       "      <td>0</td>\n",
       "      <td>0</td>\n",
       "      <td>202.70</td>\n",
       "      <td>3</td>\n",
       "      <td>0</td>\n",
       "      <td>0.1667</td>\n",
       "    </tr>\n",
       "    <tr>\n",
       "      <th>4</th>\n",
       "      <td>315c96c26c9aac</td>\n",
       "      <td>de04010b3458dd</td>\n",
       "      <td>6dc8ff871e21e6</td>\n",
       "      <td>0</td>\n",
       "      <td>0</td>\n",
       "      <td>100.00</td>\n",
       "      <td>0</td>\n",
       "      <td>0</td>\n",
       "      <td>0</td>\n",
       "      <td>45</td>\n",
       "      <td>0</td>\n",
       "      <td>1</td>\n",
       "      <td>1</td>\n",
       "      <td>58.53</td>\n",
       "      <td>1424</td>\n",
       "      <td>solo-fpp</td>\n",
       "      <td>97</td>\n",
       "      <td>95</td>\n",
       "      <td>1560</td>\n",
       "      <td>0</td>\n",
       "      <td>0.0000</td>\n",
       "      <td>0</td>\n",
       "      <td>0.00</td>\n",
       "      <td>0</td>\n",
       "      <td>0</td>\n",
       "      <td>49.75</td>\n",
       "      <td>2</td>\n",
       "      <td>0</td>\n",
       "      <td>0.1875</td>\n",
       "    </tr>\n",
       "  </tbody>\n",
       "</table>\n",
       "</div>"
      ],
      "text/plain": [
       "               Id         groupId         matchId  assists  boosts  \\\n",
       "0  7f96b2f878858a  4d4b580de459be  a10357fd1a4a91        0       0   \n",
       "1  eef90569b9d03c  684d5656442f9e  aeb375fc57110c        0       0   \n",
       "2  1eaf90ac73de72  6a4a42c3245a74  110163d8bb94ae        1       0   \n",
       "3  4616d365dd2853  a930a9c79cd721  f1f1f4ef412d7e        0       0   \n",
       "4  315c96c26c9aac  de04010b3458dd  6dc8ff871e21e6        0       0   \n",
       "\n",
       "   damageDealt  DBNOs  headshotKills  heals  killPlace  killPoints  kills  \\\n",
       "0         0.00      0              0      0         60        1241      0   \n",
       "1        91.47      0              0      0         57           0      0   \n",
       "2        68.00      0              0      0         47           0      0   \n",
       "3        32.90      0              0      0         75           0      0   \n",
       "4       100.00      0              0      0         45           0      1   \n",
       "\n",
       "   killStreaks  longestKill  matchDuration  matchType  maxPlace  numGroups  \\\n",
       "0            0         0.00           1306  squad-fpp        28         26   \n",
       "1            0         0.00           1777  squad-fpp        26         25   \n",
       "2            0         0.00           1318        duo        50         47   \n",
       "3            0         0.00           1436  squad-fpp        31         30   \n",
       "4            1        58.53           1424   solo-fpp        97         95   \n",
       "\n",
       "   rankPoints  revives  rideDistance  roadKills  swimDistance  teamKills  \\\n",
       "0          -1        0        0.0000          0          0.00          0   \n",
       "1        1484        0        0.0045          0         11.04          0   \n",
       "2        1491        0        0.0000          0          0.00          0   \n",
       "3        1408        0        0.0000          0          0.00          0   \n",
       "4        1560        0        0.0000          0          0.00          0   \n",
       "\n",
       "   vehicleDestroys  walkDistance  weaponsAcquired  winPoints  winPlacePerc  \n",
       "0                0        244.80                1       1466        0.4444  \n",
       "1                0       1434.00                5          0        0.6400  \n",
       "2                0        161.80                2          0        0.7755  \n",
       "3                0        202.70                3          0        0.1667  \n",
       "4                0         49.75                2          0        0.1875  "
      ]
     },
     "execution_count": 15,
     "metadata": {},
     "output_type": "execute_result"
    }
   ],
   "source": [
    "df.head()"
   ]
  },
  {
   "cell_type": "code",
   "execution_count": 16,
   "metadata": {
    "execution": {
     "iopub.execute_input": "2020-08-26T01:00:08.406599Z",
     "iopub.status.busy": "2020-08-26T01:00:08.405726Z",
     "iopub.status.idle": "2020-08-26T01:00:10.194807Z",
     "shell.execute_reply": "2020-08-26T01:00:10.193937Z"
    },
    "papermill": {
     "duration": 1.822803,
     "end_time": "2020-08-26T01:00:10.194959",
     "exception": false,
     "start_time": "2020-08-26T01:00:08.372156",
     "status": "completed"
    },
    "tags": []
   },
   "outputs": [
    {
     "data": {
      "image/png": "[encoded data removed]",
      "text/plain": [
       "<Figure size 936x504 with 1 Axes>"
      ]
     },
     "metadata": {
      "needs_background": "light"
     },
     "output_type": "display_data"
    }
   ],
   "source": [
    "plt.figure(figsize=(13,7))\n",
    "sns.boxplot(x='matchType',y='winPlacePerc',data=df)     \n",
    "plt.xticks(rotation=300)\n",
    "plt.show()\n",
    "\n",
    "\n",
    "#it seems the type of match isn't playing a big role in winning"
   ]
  },
  {
   "cell_type": "code",
   "execution_count": 17,
   "metadata": {
    "execution": {
     "iopub.execute_input": "2020-08-26T01:00:10.278405Z",
     "iopub.status.busy": "2020-08-26T01:00:10.277460Z",
     "iopub.status.idle": "2020-08-26T01:00:21.157400Z",
     "shell.execute_reply": "2020-08-26T01:00:21.156664Z"
    },
    "papermill": {
     "duration": 10.935935,
     "end_time": "2020-08-26T01:00:21.157551",
     "exception": false,
     "start_time": "2020-08-26T01:00:10.221616",
     "status": "completed"
    },
    "tags": []
   },
   "outputs": [
    {
     "data": {
      "image/png": "[encoded data removed]",
      "text/plain": [
       "<Figure size 360x360 with 1 Axes>"
      ]
     },
     "metadata": {
      "needs_background": "light"
     },
     "output_type": "display_data"
    }
   ],
   "source": [
    "sns.lmplot(x='winPlacePerc',y='kills',data=df,fit_reg=False)\n",
    "plt.show()\n",
    "\n",
    "#A lot wins without even one kill, may be they are cheaters or have a great team beside them\n",
    "#but in general more kills more wins"
   ]
  },
  {
   "cell_type": "code",
   "execution_count": 18,
   "metadata": {
    "execution": {
     "iopub.execute_input": "2020-08-26T01:00:21.239257Z",
     "iopub.status.busy": "2020-08-26T01:00:21.229020Z",
     "iopub.status.idle": "2020-08-26T01:00:32.291467Z",
     "shell.execute_reply": "2020-08-26T01:00:32.290780Z"
    },
    "papermill": {
     "duration": 11.106922,
     "end_time": "2020-08-26T01:00:32.291607",
     "exception": false,
     "start_time": "2020-08-26T01:00:21.184685",
     "status": "completed"
    },
    "tags": []
   },
   "outputs": [
    {
     "data": {
      "image/png": "[encoded data removed]",
      "text/plain": [
       "<Figure size 360x360 with 1 Axes>"
      ]
     },
     "metadata": {
      "needs_background": "light"
     },
     "output_type": "display_data"
    }
   ],
   "source": [
    "sns.lmplot(x='winPlacePerc',y='winPoints',data=df,fit_reg=False)\n",
    "plt.show()\n",
    "\n",
    "#win points don't give you more probabilty to win ever"
   ]
  },
  {
   "cell_type": "code",
   "execution_count": 19,
   "metadata": {
    "execution": {
     "iopub.execute_input": "2020-08-26T01:00:32.375325Z",
     "iopub.status.busy": "2020-08-26T01:00:32.374413Z",
     "iopub.status.idle": "2020-08-26T01:00:43.453953Z",
     "shell.execute_reply": "2020-08-26T01:00:43.453081Z"
    },
    "papermill": {
     "duration": 11.135861,
     "end_time": "2020-08-26T01:00:43.454110",
     "exception": false,
     "start_time": "2020-08-26T01:00:32.318249",
     "status": "completed"
    },
    "tags": []
   },
   "outputs": [
    {
     "data": {
      "image/png": "[encoded data removed]",
      "text/plain": [
       "<Figure size 360x360 with 1 Axes>"
      ]
     },
     "metadata": {
      "needs_background": "light"
     },
     "output_type": "display_data"
    }
   ],
   "source": [
    "sns.lmplot(x='winPlacePerc',y='killPoints',data=df,fit_reg=False)\n",
    "plt.show()\n",
    "\n",
    "#neither kill points"
   ]
  },
  {
   "cell_type": "code",
   "execution_count": 20,
   "metadata": {
    "execution": {
     "iopub.execute_input": "2020-08-26T01:00:43.540807Z",
     "iopub.status.busy": "2020-08-26T01:00:43.539208Z",
     "iopub.status.idle": "2020-08-26T01:00:54.429584Z",
     "shell.execute_reply": "2020-08-26T01:00:54.428914Z"
    },
    "papermill": {
     "duration": 10.947924,
     "end_time": "2020-08-26T01:00:54.429739",
     "exception": false,
     "start_time": "2020-08-26T01:00:43.481815",
     "status": "completed"
    },
    "tags": []
   },
   "outputs": [
    {
     "data": {
      "image/png": "[encoded data removed]",
      "text/plain": [
       "<Figure size 360x360 with 1 Axes>"
      ]
     },
     "metadata": {
      "needs_background": "light"
     },
     "output_type": "display_data"
    }
   ],
   "source": [
    "sns.lmplot(x='winPlacePerc',y='rankPoints',data=df,fit_reg=False)\n",
    "plt.show()\n",
    "\n",
    "#and rank is trash "
   ]
  },
  {
   "cell_type": "code",
   "execution_count": 21,
   "metadata": {
    "execution": {
     "iopub.execute_input": "2020-08-26T01:00:54.514375Z",
     "iopub.status.busy": "2020-08-26T01:00:54.513434Z",
     "iopub.status.idle": "2020-08-26T01:01:05.306736Z",
     "shell.execute_reply": "2020-08-26T01:01:05.307390Z"
    },
    "papermill": {
     "duration": 10.8496,
     "end_time": "2020-08-26T01:01:05.307578",
     "exception": false,
     "start_time": "2020-08-26T01:00:54.457978",
     "status": "completed"
    },
    "tags": []
   },
   "outputs": [
    {
     "data": {
      "image/png": "[encoded data removed]",
      "text/plain": [
       "<Figure size 360x360 with 1 Axes>"
      ]
     },
     "metadata": {
      "needs_background": "light"
     },
     "output_type": "display_data"
    }
   ],
   "source": [
    "sns.lmplot(x='winPlacePerc',y='longestKill',data=df,fit_reg=False)\n",
    "plt.show()\n",
    "\n",
    "#okay it has a little tiny correlation but a lot of noise "
   ]
  },
  {
   "cell_type": "code",
   "execution_count": 22,
   "metadata": {
    "execution": {
     "iopub.execute_input": "2020-08-26T01:01:05.393297Z",
     "iopub.status.busy": "2020-08-26T01:01:05.392358Z",
     "iopub.status.idle": "2020-08-26T01:10:16.662757Z",
     "shell.execute_reply": "2020-08-26T01:10:16.663434Z"
    },
    "papermill": {
     "duration": 551.327654,
     "end_time": "2020-08-26T01:10:16.663645",
     "exception": false,
     "start_time": "2020-08-26T01:01:05.335991",
     "status": "completed"
    },
    "tags": []
   },
   "outputs": [
    {
     "data": {
      "image/png": "[encoded data removed]",
      "text/plain": [
       "<Figure size 360x360 with 1 Axes>"
      ]
     },
     "metadata": {
      "needs_background": "light"
     },
     "output_type": "display_data"
    }
   ],
   "source": [
    "sns.lmplot(x='winPlacePerc',y='damageDealt',data=df)\n",
    "plt.show()\n",
    "\n",
    "#some winners didn't even make a scratch ,but you can see a slight correlation though"
   ]
  },
  {
   "cell_type": "code",
   "execution_count": 23,
   "metadata": {
    "execution": {
     "iopub.execute_input": "2020-08-26T01:10:16.752571Z",
     "iopub.status.busy": "2020-08-26T01:10:16.751016Z",
     "iopub.status.idle": "2020-08-26T01:19:36.958869Z",
     "shell.execute_reply": "2020-08-26T01:19:36.959544Z"
    },
    "papermill": {
     "duration": 560.267416,
     "end_time": "2020-08-26T01:19:36.959769",
     "exception": false,
     "start_time": "2020-08-26T01:10:16.692353",
     "status": "completed"
    },
    "tags": []
   },
   "outputs": [
    {
     "data": {
      "image/png": "[encoded data removed]",
      "text/plain": [
       "<Figure size 360x360 with 1 Axes>"
      ]
     },
     "metadata": {
      "needs_background": "light"
     },
     "output_type": "display_data"
    }
   ],
   "source": [
    "sns.lmplot(x='winPlacePerc',y='walkDistance',data=df)\n",
    "plt.show()\n",
    "\n",
    "#winners without even walk ,hackers"
   ]
  },
  {
   "cell_type": "code",
   "execution_count": 24,
   "metadata": {
    "execution": {
     "iopub.execute_input": "2020-08-26T01:19:37.033385Z",
     "iopub.status.busy": "2020-08-26T01:19:37.032085Z",
     "iopub.status.idle": "2020-08-26T01:19:37.610730Z",
     "shell.execute_reply": "2020-08-26T01:19:37.611490Z"
    },
    "papermill": {
     "duration": 0.622518,
     "end_time": "2020-08-26T01:19:37.611707",
     "exception": false,
     "start_time": "2020-08-26T01:19:36.989189",
     "status": "completed"
    },
    "tags": []
   },
   "outputs": [
    {
     "name": "stderr",
     "output_type": "stream",
     "text": [
      "/opt/conda/lib/python3.7/site-packages/ipykernel_launcher.py:1: UserWarning: Boolean Series key will be reindexed to match DataFrame index.\n",
      "  \"\"\"Entry point for launching an IPython kernel.\n"
     ]
    },
    {
     "data": {
      "text/html": [
       "<div>\n",
       "<style scoped>\n",
       "    .dataframe tbody tr th:only-of-type {\n",
       "        vertical-align: middle;\n",
       "    }\n",
       "\n",
       "    .dataframe tbody tr th {\n",
       "        vertical-align: top;\n",
       "    }\n",
       "\n",
       "    .dataframe thead th {\n",
       "        text-align: right;\n",
       "    }\n",
       "</style>\n",
       "<table border=\"1\" class=\"dataframe\">\n",
       "  <thead>\n",
       "    <tr style=\"text-align: right;\">\n",
       "      <th></th>\n",
       "      <th>assists</th>\n",
       "      <th>boosts</th>\n",
       "      <th>damageDealt</th>\n",
       "      <th>DBNOs</th>\n",
       "      <th>headshotKills</th>\n",
       "      <th>heals</th>\n",
       "      <th>killPlace</th>\n",
       "      <th>killPoints</th>\n",
       "      <th>kills</th>\n",
       "      <th>killStreaks</th>\n",
       "      <th>longestKill</th>\n",
       "      <th>matchDuration</th>\n",
       "      <th>maxPlace</th>\n",
       "      <th>numGroups</th>\n",
       "      <th>rankPoints</th>\n",
       "      <th>revives</th>\n",
       "      <th>rideDistance</th>\n",
       "      <th>roadKills</th>\n",
       "      <th>swimDistance</th>\n",
       "      <th>teamKills</th>\n",
       "      <th>vehicleDestroys</th>\n",
       "      <th>walkDistance</th>\n",
       "      <th>weaponsAcquired</th>\n",
       "      <th>winPoints</th>\n",
       "      <th>winPlacePerc</th>\n",
       "    </tr>\n",
       "  </thead>\n",
       "  <tbody>\n",
       "    <tr>\n",
       "      <th>count</th>\n",
       "      <td>965.000000</td>\n",
       "      <td>965.000000</td>\n",
       "      <td>965.000000</td>\n",
       "      <td>965.000000</td>\n",
       "      <td>965.000000</td>\n",
       "      <td>965.000000</td>\n",
       "      <td>965.000000</td>\n",
       "      <td>965.000000</td>\n",
       "      <td>965.000000</td>\n",
       "      <td>965.000000</td>\n",
       "      <td>965.000000</td>\n",
       "      <td>965.000000</td>\n",
       "      <td>965.000000</td>\n",
       "      <td>965.000000</td>\n",
       "      <td>965.000000</td>\n",
       "      <td>965.000000</td>\n",
       "      <td>965.0</td>\n",
       "      <td>965.0</td>\n",
       "      <td>965.000000</td>\n",
       "      <td>965.000000</td>\n",
       "      <td>965.0</td>\n",
       "      <td>965.0</td>\n",
       "      <td>965.000000</td>\n",
       "      <td>965.000000</td>\n",
       "      <td>965.0</td>\n",
       "    </tr>\n",
       "    <tr>\n",
       "      <th>mean</th>\n",
       "      <td>0.404145</td>\n",
       "      <td>0.328497</td>\n",
       "      <td>239.227626</td>\n",
       "      <td>0.269430</td>\n",
       "      <td>0.368912</td>\n",
       "      <td>0.644560</td>\n",
       "      <td>6.896373</td>\n",
       "      <td>70.519171</td>\n",
       "      <td>1.414508</td>\n",
       "      <td>0.336788</td>\n",
       "      <td>16.361784</td>\n",
       "      <td>1637.976166</td>\n",
       "      <td>15.789637</td>\n",
       "      <td>3.627979</td>\n",
       "      <td>1397.215544</td>\n",
       "      <td>0.030052</td>\n",
       "      <td>0.0</td>\n",
       "      <td>0.0</td>\n",
       "      <td>0.008045</td>\n",
       "      <td>0.033161</td>\n",
       "      <td>0.0</td>\n",
       "      <td>0.0</td>\n",
       "      <td>8.398964</td>\n",
       "      <td>102.677720</td>\n",
       "      <td>1.0</td>\n",
       "    </tr>\n",
       "    <tr>\n",
       "      <th>std</th>\n",
       "      <td>1.334347</td>\n",
       "      <td>1.270829</td>\n",
       "      <td>436.468670</td>\n",
       "      <td>1.801322</td>\n",
       "      <td>1.630450</td>\n",
       "      <td>1.956764</td>\n",
       "      <td>12.370476</td>\n",
       "      <td>261.330007</td>\n",
       "      <td>4.434657</td>\n",
       "      <td>0.885302</td>\n",
       "      <td>68.833642</td>\n",
       "      <td>376.131638</td>\n",
       "      <td>4.906416</td>\n",
       "      <td>4.343336</td>\n",
       "      <td>379.074913</td>\n",
       "      <td>0.261912</td>\n",
       "      <td>0.0</td>\n",
       "      <td>0.0</td>\n",
       "      <td>0.176189</td>\n",
       "      <td>0.282510</td>\n",
       "      <td>0.0</td>\n",
       "      <td>0.0</td>\n",
       "      <td>7.882790</td>\n",
       "      <td>379.163882</td>\n",
       "      <td>0.0</td>\n",
       "    </tr>\n",
       "    <tr>\n",
       "      <th>min</th>\n",
       "      <td>0.000000</td>\n",
       "      <td>0.000000</td>\n",
       "      <td>0.000000</td>\n",
       "      <td>0.000000</td>\n",
       "      <td>0.000000</td>\n",
       "      <td>0.000000</td>\n",
       "      <td>1.000000</td>\n",
       "      <td>0.000000</td>\n",
       "      <td>0.000000</td>\n",
       "      <td>0.000000</td>\n",
       "      <td>0.000000</td>\n",
       "      <td>352.000000</td>\n",
       "      <td>2.000000</td>\n",
       "      <td>2.000000</td>\n",
       "      <td>-1.000000</td>\n",
       "      <td>0.000000</td>\n",
       "      <td>0.0</td>\n",
       "      <td>0.0</td>\n",
       "      <td>0.000000</td>\n",
       "      <td>0.000000</td>\n",
       "      <td>0.0</td>\n",
       "      <td>0.0</td>\n",
       "      <td>0.000000</td>\n",
       "      <td>0.000000</td>\n",
       "      <td>1.0</td>\n",
       "    </tr>\n",
       "    <tr>\n",
       "      <th>25%</th>\n",
       "      <td>0.000000</td>\n",
       "      <td>0.000000</td>\n",
       "      <td>0.000000</td>\n",
       "      <td>0.000000</td>\n",
       "      <td>0.000000</td>\n",
       "      <td>0.000000</td>\n",
       "      <td>1.000000</td>\n",
       "      <td>0.000000</td>\n",
       "      <td>0.000000</td>\n",
       "      <td>0.000000</td>\n",
       "      <td>0.000000</td>\n",
       "      <td>1808.000000</td>\n",
       "      <td>15.000000</td>\n",
       "      <td>2.000000</td>\n",
       "      <td>1500.000000</td>\n",
       "      <td>0.000000</td>\n",
       "      <td>0.0</td>\n",
       "      <td>0.0</td>\n",
       "      <td>0.000000</td>\n",
       "      <td>0.000000</td>\n",
       "      <td>0.0</td>\n",
       "      <td>0.0</td>\n",
       "      <td>3.000000</td>\n",
       "      <td>0.000000</td>\n",
       "      <td>1.0</td>\n",
       "    </tr>\n",
       "    <tr>\n",
       "      <th>50%</th>\n",
       "      <td>0.000000</td>\n",
       "      <td>0.000000</td>\n",
       "      <td>99.000000</td>\n",
       "      <td>0.000000</td>\n",
       "      <td>0.000000</td>\n",
       "      <td>0.000000</td>\n",
       "      <td>2.000000</td>\n",
       "      <td>0.000000</td>\n",
       "      <td>0.000000</td>\n",
       "      <td>0.000000</td>\n",
       "      <td>0.000000</td>\n",
       "      <td>1808.000000</td>\n",
       "      <td>17.000000</td>\n",
       "      <td>2.000000</td>\n",
       "      <td>1500.000000</td>\n",
       "      <td>0.000000</td>\n",
       "      <td>0.0</td>\n",
       "      <td>0.0</td>\n",
       "      <td>0.000000</td>\n",
       "      <td>0.000000</td>\n",
       "      <td>0.0</td>\n",
       "      <td>0.0</td>\n",
       "      <td>6.000000</td>\n",
       "      <td>0.000000</td>\n",
       "      <td>1.0</td>\n",
       "    </tr>\n",
       "    <tr>\n",
       "      <th>75%</th>\n",
       "      <td>0.000000</td>\n",
       "      <td>0.000000</td>\n",
       "      <td>252.400000</td>\n",
       "      <td>0.000000</td>\n",
       "      <td>0.000000</td>\n",
       "      <td>0.000000</td>\n",
       "      <td>4.000000</td>\n",
       "      <td>0.000000</td>\n",
       "      <td>0.000000</td>\n",
       "      <td>0.000000</td>\n",
       "      <td>0.000000</td>\n",
       "      <td>1808.000000</td>\n",
       "      <td>18.000000</td>\n",
       "      <td>2.000000</td>\n",
       "      <td>1500.000000</td>\n",
       "      <td>0.000000</td>\n",
       "      <td>0.0</td>\n",
       "      <td>0.0</td>\n",
       "      <td>0.000000</td>\n",
       "      <td>0.000000</td>\n",
       "      <td>0.0</td>\n",
       "      <td>0.0</td>\n",
       "      <td>11.000000</td>\n",
       "      <td>0.000000</td>\n",
       "      <td>1.0</td>\n",
       "    </tr>\n",
       "    <tr>\n",
       "      <th>max</th>\n",
       "      <td>11.000000</td>\n",
       "      <td>14.000000</td>\n",
       "      <td>5090.000000</td>\n",
       "      <td>33.000000</td>\n",
       "      <td>26.000000</td>\n",
       "      <td>22.000000</td>\n",
       "      <td>72.000000</td>\n",
       "      <td>1365.000000</td>\n",
       "      <td>43.000000</td>\n",
       "      <td>9.000000</td>\n",
       "      <td>1072.000000</td>\n",
       "      <td>1925.000000</td>\n",
       "      <td>54.000000</td>\n",
       "      <td>30.000000</td>\n",
       "      <td>1589.000000</td>\n",
       "      <td>5.000000</td>\n",
       "      <td>0.0</td>\n",
       "      <td>0.0</td>\n",
       "      <td>4.360000</td>\n",
       "      <td>4.000000</td>\n",
       "      <td>0.0</td>\n",
       "      <td>0.0</td>\n",
       "      <td>68.000000</td>\n",
       "      <td>1564.000000</td>\n",
       "      <td>1.0</td>\n",
       "    </tr>\n",
       "  </tbody>\n",
       "</table>\n",
       "</div>"
      ],
      "text/plain": [
       "          assists      boosts  damageDealt       DBNOs  headshotKills  \\\n",
       "count  965.000000  965.000000   965.000000  965.000000     965.000000   \n",
       "mean     0.404145    0.328497   239.227626    0.269430       0.368912   \n",
       "std      1.334347    1.270829   436.468670    1.801322       1.630450   \n",
       "min      0.000000    0.000000     0.000000    0.000000       0.000000   \n",
       "25%      0.000000    0.000000     0.000000    0.000000       0.000000   \n",
       "50%      0.000000    0.000000    99.000000    0.000000       0.000000   \n",
       "75%      0.000000    0.000000   252.400000    0.000000       0.000000   \n",
       "max     11.000000   14.000000  5090.000000   33.000000      26.000000   \n",
       "\n",
       "            heals   killPlace   killPoints       kills  killStreaks  \\\n",
       "count  965.000000  965.000000   965.000000  965.000000   965.000000   \n",
       "mean     0.644560    6.896373    70.519171    1.414508     0.336788   \n",
       "std      1.956764   12.370476   261.330007    4.434657     0.885302   \n",
       "min      0.000000    1.000000     0.000000    0.000000     0.000000   \n",
       "25%      0.000000    1.000000     0.000000    0.000000     0.000000   \n",
       "50%      0.000000    2.000000     0.000000    0.000000     0.000000   \n",
       "75%      0.000000    4.000000     0.000000    0.000000     0.000000   \n",
       "max     22.000000   72.000000  1365.000000   43.000000     9.000000   \n",
       "\n",
       "       longestKill  matchDuration    maxPlace   numGroups   rankPoints  \\\n",
       "count   965.000000     965.000000  965.000000  965.000000   965.000000   \n",
       "mean     16.361784    1637.976166   15.789637    3.627979  1397.215544   \n",
       "std      68.833642     376.131638    4.906416    4.343336   379.074913   \n",
       "min       0.000000     352.000000    2.000000    2.000000    -1.000000   \n",
       "25%       0.000000    1808.000000   15.000000    2.000000  1500.000000   \n",
       "50%       0.000000    1808.000000   17.000000    2.000000  1500.000000   \n",
       "75%       0.000000    1808.000000   18.000000    2.000000  1500.000000   \n",
       "max    1072.000000    1925.000000   54.000000   30.000000  1589.000000   \n",
       "\n",
       "          revives  rideDistance  roadKills  swimDistance   teamKills  \\\n",
       "count  965.000000         965.0      965.0    965.000000  965.000000   \n",
       "mean     0.030052           0.0        0.0      0.008045    0.033161   \n",
       "std      0.261912           0.0        0.0      0.176189    0.282510   \n",
       "min      0.000000           0.0        0.0      0.000000    0.000000   \n",
       "25%      0.000000           0.0        0.0      0.000000    0.000000   \n",
       "50%      0.000000           0.0        0.0      0.000000    0.000000   \n",
       "75%      0.000000           0.0        0.0      0.000000    0.000000   \n",
       "max      5.000000           0.0        0.0      4.360000    4.000000   \n",
       "\n",
       "       vehicleDestroys  walkDistance  weaponsAcquired    winPoints  \\\n",
       "count            965.0         965.0       965.000000   965.000000   \n",
       "mean               0.0           0.0         8.398964   102.677720   \n",
       "std                0.0           0.0         7.882790   379.163882   \n",
       "min                0.0           0.0         0.000000     0.000000   \n",
       "25%                0.0           0.0         3.000000     0.000000   \n",
       "50%                0.0           0.0         6.000000     0.000000   \n",
       "75%                0.0           0.0        11.000000     0.000000   \n",
       "max                0.0           0.0        68.000000  1564.000000   \n",
       "\n",
       "       winPlacePerc  \n",
       "count         965.0  \n",
       "mean            1.0  \n",
       "std             0.0  \n",
       "min             1.0  \n",
       "25%             1.0  \n",
       "50%             1.0  \n",
       "75%             1.0  \n",
       "max             1.0  "
      ]
     },
     "execution_count": 24,
     "metadata": {},
     "output_type": "execute_result"
    }
   ],
   "source": [
    "df[df['walkDistance']==0][df['winPlacePerc']==1].describe()\n",
    "\n",
    "#and a lot of cheaters here weapons and kills without a single move"
   ]
  },
  {
   "cell_type": "code",
   "execution_count": 25,
   "metadata": {
    "execution": {
     "iopub.execute_input": "2020-08-26T01:19:37.776185Z",
     "iopub.status.busy": "2020-08-26T01:19:37.775285Z",
     "iopub.status.idle": "2020-08-26T01:19:48.575985Z",
     "shell.execute_reply": "2020-08-26T01:19:48.575335Z"
    },
    "papermill": {
     "duration": 10.933707,
     "end_time": "2020-08-26T01:19:48.576127",
     "exception": false,
     "start_time": "2020-08-26T01:19:37.642420",
     "status": "completed"
    },
    "tags": []
   },
   "outputs": [
    {
     "data": {
      "image/png": "[encoded data removed]",
      "text/plain": [
       "<Figure size 360x360 with 1 Axes>"
      ]
     },
     "metadata": {
      "needs_background": "light"
     },
     "output_type": "display_data"
    }
   ],
   "source": [
    "sns.lmplot(x='winPlacePerc',y='swimDistance',data=df,fit_reg=False)\n",
    "plt.show()\n",
    "\n",
    "#not interesting "
   ]
  },
  {
   "cell_type": "markdown",
   "execution_count": null,
   "metadata": {
    "papermill": {
     "duration": 0.030233,
     "end_time": "2020-08-26T01:19:48.637214",
     "exception": false,
     "start_time": "2020-08-26T01:19:48.606981",
     "status": "completed"
    },
    "tags": []
   },
   "source": [
    "## Converting some numerical features into categories"
   ]
  },
  {
   "cell_type": "code",
   "execution_count": 26,
   "metadata": {
    "execution": {
     "iopub.execute_input": "2020-08-26T01:19:48.708758Z",
     "iopub.status.busy": "2020-08-26T01:19:48.707832Z",
     "iopub.status.idle": "2020-08-26T01:19:48.838847Z",
     "shell.execute_reply": "2020-08-26T01:19:48.838073Z"
    },
    "papermill": {
     "duration": 0.17065,
     "end_time": "2020-08-26T01:19:48.839009",
     "exception": false,
     "start_time": "2020-08-26T01:19:48.668359",
     "status": "completed"
    },
    "tags": []
   },
   "outputs": [],
   "source": [
    "weapons_num=pd.cut(df['weaponsAcquired'],[0,2,6,12,25,50,100,200,300],\n",
    "                   labels=['0-2','2-6','6-12','12-25','25-50','50-100','100-200','+200'])\n",
    "\n",
    "#making the number of weapons acquired in categories so we can visualize it properly"
   ]
  },
  {
   "cell_type": "code",
   "execution_count": 27,
   "metadata": {
    "execution": {
     "iopub.execute_input": "2020-08-26T01:19:48.910284Z",
     "iopub.status.busy": "2020-08-26T01:19:48.909326Z",
     "iopub.status.idle": "2020-08-26T01:19:51.151599Z",
     "shell.execute_reply": "2020-08-26T01:19:51.150736Z"
    },
    "papermill": {
     "duration": 2.281471,
     "end_time": "2020-08-26T01:19:51.151755",
     "exception": false,
     "start_time": "2020-08-26T01:19:48.870284",
     "status": "completed"
    },
    "tags": []
   },
   "outputs": [
    {
     "data": {
      "image/png": "[encoded data removed]",
      "text/plain": [
       "<Figure size 864x504 with 1 Axes>"
      ]
     },
     "metadata": {
      "needs_background": "light"
     },
     "output_type": "display_data"
    }
   ],
   "source": [
    "plt.figure(figsize=(12,7))\n",
    "sns.boxplot(x=weapons_num,y='winPlacePerc',data=df)\n",
    "plt.show()\n",
    "\n",
    "#okay having weapons from 6 and up to 25 makes your probability to win a bit more\n",
    "#it's the proper number beacuse more than 100 hunderd are likely cheatings"
   ]
  },
  {
   "cell_type": "code",
   "execution_count": 28,
   "metadata": {
    "execution": {
     "iopub.execute_input": "2020-08-26T01:19:51.221521Z",
     "iopub.status.busy": "2020-08-26T01:19:51.220583Z",
     "iopub.status.idle": "2020-08-26T01:19:51.224132Z",
     "shell.execute_reply": "2020-08-26T01:19:51.224729Z"
    },
    "papermill": {
     "duration": 0.041465,
     "end_time": "2020-08-26T01:19:51.224923",
     "exception": false,
     "start_time": "2020-08-26T01:19:51.183458",
     "status": "completed"
    },
    "tags": []
   },
   "outputs": [],
   "source": [
    "del weapons_num"
   ]
  },
  {
   "cell_type": "code",
   "execution_count": 29,
   "metadata": {
    "execution": {
     "iopub.execute_input": "2020-08-26T01:19:51.295695Z",
     "iopub.status.busy": "2020-08-26T01:19:51.294807Z",
     "iopub.status.idle": "2020-08-26T01:19:51.420855Z",
     "shell.execute_reply": "2020-08-26T01:19:51.421509Z"
    },
    "papermill": {
     "duration": 0.165701,
     "end_time": "2020-08-26T01:19:51.421742",
     "exception": false,
     "start_time": "2020-08-26T01:19:51.256041",
     "status": "completed"
    },
    "tags": []
   },
   "outputs": [],
   "source": [
    "kills=pd.cut(df['kills'],[1,10,20,40,60,80],labels=['1-10','10-20','20-40','40-60','+60'])\n",
    "#make kills in categories"
   ]
  },
  {
   "cell_type": "code",
   "execution_count": 30,
   "metadata": {
    "execution": {
     "iopub.execute_input": "2020-08-26T01:19:51.494549Z",
     "iopub.status.busy": "2020-08-26T01:19:51.493703Z",
     "iopub.status.idle": "2020-08-26T01:19:51.855481Z",
     "shell.execute_reply": "2020-08-26T01:19:51.854649Z"
    },
    "papermill": {
     "duration": 0.401758,
     "end_time": "2020-08-26T01:19:51.855626",
     "exception": false,
     "start_time": "2020-08-26T01:19:51.453868",
     "status": "completed"
    },
    "tags": []
   },
   "outputs": [
    {
     "data": {
      "image/png": "[encoded data removed]",
      "text/plain": [
       "<Figure size 936x432 with 1 Axes>"
      ]
     },
     "metadata": {
      "needs_background": "light"
     },
     "output_type": "display_data"
    }
   ],
   "source": [
    "plt.figure(figsize=(13,6))\n",
    "sns.boxplot(x=kills,y=df['winPlacePerc'])\n",
    "plt.show()"
   ]
  },
  {
   "cell_type": "code",
   "execution_count": 31,
   "metadata": {
    "execution": {
     "iopub.execute_input": "2020-08-26T01:19:51.926034Z",
     "iopub.status.busy": "2020-08-26T01:19:51.925155Z",
     "iopub.status.idle": "2020-08-26T01:19:51.980589Z",
     "shell.execute_reply": "2020-08-26T01:19:51.979693Z"
    },
    "papermill": {
     "duration": 0.093223,
     "end_time": "2020-08-26T01:19:51.980743",
     "exception": false,
     "start_time": "2020-08-26T01:19:51.887520",
     "status": "completed"
    },
    "tags": []
   },
   "outputs": [
    {
     "data": {
      "text/plain": [
       "0     3696115\n",
       "1      574741\n",
       "2      126348\n",
       "3       32975\n",
       "4        9962\n",
       "5        3616\n",
       "6        1439\n",
       "7         757\n",
       "8         373\n",
       "9         215\n",
       "10        136\n",
       "11         79\n",
       "12         64\n",
       "13         44\n",
       "14         23\n",
       "15         16\n",
       "16         15\n",
       "17         11\n",
       "18          9\n",
       "19          3\n",
       "20          3\n",
       "23          3\n",
       "26          3\n",
       "27          2\n",
       "21          2\n",
       "31          2\n",
       "34          2\n",
       "40          1\n",
       "42          1\n",
       "41          1\n",
       "46          1\n",
       "39          1\n",
       "35          1\n",
       "64          1\n",
       "Name: headshotKills, dtype: int64"
      ]
     },
     "execution_count": 31,
     "metadata": {},
     "output_type": "execute_result"
    }
   ],
   "source": [
    "df.headshotKills.value_counts()\n",
    "\n",
    "#64 headshot !"
   ]
  },
  {
   "cell_type": "code",
   "execution_count": 32,
   "metadata": {
    "execution": {
     "iopub.execute_input": "2020-08-26T01:19:52.054237Z",
     "iopub.status.busy": "2020-08-26T01:19:52.053038Z",
     "iopub.status.idle": "2020-08-26T01:19:52.160102Z",
     "shell.execute_reply": "2020-08-26T01:19:52.159359Z"
    },
    "papermill": {
     "duration": 0.147,
     "end_time": "2020-08-26T01:19:52.160244",
     "exception": false,
     "start_time": "2020-08-26T01:19:52.013244",
     "status": "completed"
    },
    "tags": []
   },
   "outputs": [],
   "source": [
    "head_shot=pd.cut(df['headshotKills'],[0,1,2,3,4,7,10,16,19,35,64],\n",
    "                 labels=['0','1','2','3','4-7','7-10','10-16','16-19','19-35','35-64'])\n",
    "\n",
    "#making head shots in categories"
   ]
  },
  {
   "cell_type": "code",
   "execution_count": 33,
   "metadata": {
    "execution": {
     "iopub.execute_input": "2020-08-26T01:19:52.232956Z",
     "iopub.status.busy": "2020-08-26T01:19:52.231977Z",
     "iopub.status.idle": "2020-08-26T01:19:52.695831Z",
     "shell.execute_reply": "2020-08-26T01:19:52.694917Z"
    },
    "papermill": {
     "duration": 0.503898,
     "end_time": "2020-08-26T01:19:52.695980",
     "exception": false,
     "start_time": "2020-08-26T01:19:52.192082",
     "status": "completed"
    },
    "tags": []
   },
   "outputs": [
    {
     "data": {
      "text/plain": [
       "<matplotlib.axes._subplots.AxesSubplot at 0x7f3c33a56bd0>"
      ]
     },
     "execution_count": 33,
     "metadata": {},
     "output_type": "execute_result"
    },
    {
     "data": {
      "image/png": "[encoded data removed]",
      "text/plain": [
       "<Figure size 936x432 with 1 Axes>"
      ]
     },
     "metadata": {
      "needs_background": "light"
     },
     "output_type": "display_data"
    }
   ],
   "source": [
    "plt.figure(figsize=(13,6))\n",
    "sns.boxplot(x=head_shot,y=df['winPlacePerc'])\n",
    "\n",
    "#if you get more than 5 head shots you are likely more to win "
   ]
  },
  {
   "cell_type": "markdown",
   "execution_count": null,
   "metadata": {
    "papermill": {
     "duration": 0.031956,
     "end_time": "2020-08-26T01:19:52.760508",
     "exception": false,
     "start_time": "2020-08-26T01:19:52.728552",
     "status": "completed"
    },
    "tags": []
   },
   "source": [
    "# Adding new features"
   ]
  },
  {
   "cell_type": "code",
   "execution_count": 34,
   "metadata": {
    "execution": {
     "iopub.execute_input": "2020-08-26T01:19:52.834167Z",
     "iopub.status.busy": "2020-08-26T01:19:52.833238Z",
     "iopub.status.idle": "2020-08-26T01:20:15.597359Z",
     "shell.execute_reply": "2020-08-26T01:20:15.596648Z"
    },
    "papermill": {
     "duration": 22.804724,
     "end_time": "2020-08-26T01:20:15.597536",
     "exception": false,
     "start_time": "2020-08-26T01:19:52.792812",
     "status": "completed"
    },
    "tags": []
   },
   "outputs": [],
   "source": [
    "groups=df.groupby('groupId').sum()\n",
    "\n",
    "#we will make some features that take all the group in consideration"
   ]
  },
  {
   "cell_type": "code",
   "execution_count": 35,
   "metadata": {
    "execution": {
     "iopub.execute_input": "2020-08-26T01:20:15.672036Z",
     "iopub.status.busy": "2020-08-26T01:20:15.670066Z",
     "iopub.status.idle": "2020-08-26T01:20:16.057833Z",
     "shell.execute_reply": "2020-08-26T01:20:16.058470Z"
    },
    "papermill": {
     "duration": 0.428222,
     "end_time": "2020-08-26T01:20:16.058686",
     "exception": false,
     "start_time": "2020-08-26T01:20:15.630464",
     "status": "completed"
    },
    "tags": []
   },
   "outputs": [],
   "source": [
    "groups=groups.reset_index()"
   ]
  },
  {
   "cell_type": "code",
   "execution_count": 36,
   "metadata": {
    "execution": {
     "iopub.execute_input": "2020-08-26T01:20:16.154437Z",
     "iopub.status.busy": "2020-08-26T01:20:16.153251Z",
     "iopub.status.idle": "2020-08-26T01:20:16.158867Z",
     "shell.execute_reply": "2020-08-26T01:20:16.158188Z"
    },
    "papermill": {
     "duration": 0.067609,
     "end_time": "2020-08-26T01:20:16.159016",
     "exception": false,
     "start_time": "2020-08-26T01:20:16.091407",
     "status": "completed"
    },
    "tags": []
   },
   "outputs": [
    {
     "data": {
      "text/html": [
       "<div>\n",
       "<style scoped>\n",
       "    .dataframe tbody tr th:only-of-type {\n",
       "        vertical-align: middle;\n",
       "    }\n",
       "\n",
       "    .dataframe tbody tr th {\n",
       "        vertical-align: top;\n",
       "    }\n",
       "\n",
       "    .dataframe thead th {\n",
       "        text-align: right;\n",
       "    }\n",
       "</style>\n",
       "<table border=\"1\" class=\"dataframe\">\n",
       "  <thead>\n",
       "    <tr style=\"text-align: right;\">\n",
       "      <th></th>\n",
       "      <th>groupId</th>\n",
       "      <th>assists</th>\n",
       "      <th>boosts</th>\n",
       "      <th>damageDealt</th>\n",
       "      <th>DBNOs</th>\n",
       "      <th>headshotKills</th>\n",
       "      <th>heals</th>\n",
       "      <th>killPlace</th>\n",
       "      <th>killPoints</th>\n",
       "      <th>kills</th>\n",
       "      <th>killStreaks</th>\n",
       "      <th>longestKill</th>\n",
       "      <th>matchDuration</th>\n",
       "      <th>maxPlace</th>\n",
       "      <th>numGroups</th>\n",
       "      <th>rankPoints</th>\n",
       "      <th>revives</th>\n",
       "      <th>rideDistance</th>\n",
       "      <th>roadKills</th>\n",
       "      <th>swimDistance</th>\n",
       "      <th>teamKills</th>\n",
       "      <th>vehicleDestroys</th>\n",
       "      <th>walkDistance</th>\n",
       "      <th>weaponsAcquired</th>\n",
       "      <th>winPoints</th>\n",
       "      <th>winPlacePerc</th>\n",
       "    </tr>\n",
       "  </thead>\n",
       "  <tbody>\n",
       "    <tr>\n",
       "      <th>0</th>\n",
       "      <td>00000c08b5be36</td>\n",
       "      <td>0</td>\n",
       "      <td>1</td>\n",
       "      <td>741.50</td>\n",
       "      <td>5</td>\n",
       "      <td>1</td>\n",
       "      <td>1</td>\n",
       "      <td>151</td>\n",
       "      <td>0</td>\n",
       "      <td>2</td>\n",
       "      <td>2</td>\n",
       "      <td>27.155</td>\n",
       "      <td>4287</td>\n",
       "      <td>78</td>\n",
       "      <td>78</td>\n",
       "      <td>4372</td>\n",
       "      <td>0</td>\n",
       "      <td>0.0</td>\n",
       "      <td>0</td>\n",
       "      <td>0.00</td>\n",
       "      <td>0</td>\n",
       "      <td>0</td>\n",
       "      <td>814.60</td>\n",
       "      <td>7</td>\n",
       "      <td>0</td>\n",
       "      <td>0.6000</td>\n",
       "    </tr>\n",
       "    <tr>\n",
       "      <th>1</th>\n",
       "      <td>00000d1cbbc340</td>\n",
       "      <td>0</td>\n",
       "      <td>0</td>\n",
       "      <td>173.70</td>\n",
       "      <td>0</td>\n",
       "      <td>0</td>\n",
       "      <td>0</td>\n",
       "      <td>40</td>\n",
       "      <td>0</td>\n",
       "      <td>1</td>\n",
       "      <td>1</td>\n",
       "      <td>1.964</td>\n",
       "      <td>1196</td>\n",
       "      <td>27</td>\n",
       "      <td>24</td>\n",
       "      <td>1551</td>\n",
       "      <td>0</td>\n",
       "      <td>0.0</td>\n",
       "      <td>0</td>\n",
       "      <td>0.00</td>\n",
       "      <td>0</td>\n",
       "      <td>0</td>\n",
       "      <td>135.80</td>\n",
       "      <td>3</td>\n",
       "      <td>0</td>\n",
       "      <td>0.1154</td>\n",
       "    </tr>\n",
       "    <tr>\n",
       "      <th>2</th>\n",
       "      <td>000025a09dd1d7</td>\n",
       "      <td>0</td>\n",
       "      <td>0</td>\n",
       "      <td>0.00</td>\n",
       "      <td>0</td>\n",
       "      <td>0</td>\n",
       "      <td>0</td>\n",
       "      <td>72</td>\n",
       "      <td>0</td>\n",
       "      <td>0</td>\n",
       "      <td>0</td>\n",
       "      <td>0.000</td>\n",
       "      <td>2021</td>\n",
       "      <td>91</td>\n",
       "      <td>89</td>\n",
       "      <td>1584</td>\n",
       "      <td>0</td>\n",
       "      <td>0.0</td>\n",
       "      <td>0</td>\n",
       "      <td>0.00</td>\n",
       "      <td>0</td>\n",
       "      <td>0</td>\n",
       "      <td>110.80</td>\n",
       "      <td>2</td>\n",
       "      <td>0</td>\n",
       "      <td>0.2000</td>\n",
       "    </tr>\n",
       "    <tr>\n",
       "      <th>3</th>\n",
       "      <td>000038ec4dff53</td>\n",
       "      <td>2</td>\n",
       "      <td>7</td>\n",
       "      <td>790.67</td>\n",
       "      <td>5</td>\n",
       "      <td>1</td>\n",
       "      <td>9</td>\n",
       "      <td>39</td>\n",
       "      <td>0</td>\n",
       "      <td>6</td>\n",
       "      <td>3</td>\n",
       "      <td>160.530</td>\n",
       "      <td>4410</td>\n",
       "      <td>81</td>\n",
       "      <td>81</td>\n",
       "      <td>4548</td>\n",
       "      <td>2</td>\n",
       "      <td>0.0</td>\n",
       "      <td>0</td>\n",
       "      <td>224.77</td>\n",
       "      <td>0</td>\n",
       "      <td>0</td>\n",
       "      <td>6248.00</td>\n",
       "      <td>17</td>\n",
       "      <td>0</td>\n",
       "      <td>2.8845</td>\n",
       "    </tr>\n",
       "    <tr>\n",
       "      <th>4</th>\n",
       "      <td>00003a54230763</td>\n",
       "      <td>1</td>\n",
       "      <td>0</td>\n",
       "      <td>100.00</td>\n",
       "      <td>1</td>\n",
       "      <td>1</td>\n",
       "      <td>0</td>\n",
       "      <td>109</td>\n",
       "      <td>2026</td>\n",
       "      <td>1</td>\n",
       "      <td>1</td>\n",
       "      <td>3.171</td>\n",
       "      <td>4380</td>\n",
       "      <td>88</td>\n",
       "      <td>84</td>\n",
       "      <td>-2</td>\n",
       "      <td>0</td>\n",
       "      <td>0.0</td>\n",
       "      <td>0</td>\n",
       "      <td>0.00</td>\n",
       "      <td>0</td>\n",
       "      <td>0</td>\n",
       "      <td>185.35</td>\n",
       "      <td>5</td>\n",
       "      <td>3002</td>\n",
       "      <td>0.2790</td>\n",
       "    </tr>\n",
       "  </tbody>\n",
       "</table>\n",
       "</div>"
      ],
      "text/plain": [
       "          groupId  assists  boosts  damageDealt  DBNOs  headshotKills  heals  \\\n",
       "0  00000c08b5be36        0       1       741.50      5              1      1   \n",
       "1  00000d1cbbc340        0       0       173.70      0              0      0   \n",
       "2  000025a09dd1d7        0       0         0.00      0              0      0   \n",
       "3  000038ec4dff53        2       7       790.67      5              1      9   \n",
       "4  00003a54230763        1       0       100.00      1              1      0   \n",
       "\n",
       "   killPlace  killPoints  kills  killStreaks  longestKill  matchDuration  \\\n",
       "0        151           0      2            2       27.155           4287   \n",
       "1         40           0      1            1        1.964           1196   \n",
       "2         72           0      0            0        0.000           2021   \n",
       "3         39           0      6            3      160.530           4410   \n",
       "4        109        2026      1            1        3.171           4380   \n",
       "\n",
       "   maxPlace  numGroups  rankPoints  revives  rideDistance  roadKills  \\\n",
       "0        78         78        4372        0           0.0          0   \n",
       "1        27         24        1551        0           0.0          0   \n",
       "2        91         89        1584        0           0.0          0   \n",
       "3        81         81        4548        2           0.0          0   \n",
       "4        88         84          -2        0           0.0          0   \n",
       "\n",
       "   swimDistance  teamKills  vehicleDestroys  walkDistance  weaponsAcquired  \\\n",
       "0          0.00          0                0        814.60                7   \n",
       "1          0.00          0                0        135.80                3   \n",
       "2          0.00          0                0        110.80                2   \n",
       "3        224.77          0                0       6248.00               17   \n",
       "4          0.00          0                0        185.35                5   \n",
       "\n",
       "   winPoints  winPlacePerc  \n",
       "0          0        0.6000  \n",
       "1          0        0.1154  \n",
       "2          0        0.2000  \n",
       "3          0        2.8845  \n",
       "4       3002        0.2790  "
      ]
     },
     "execution_count": 36,
     "metadata": {},
     "output_type": "execute_result"
    }
   ],
   "source": [
    "groups.head()"
   ]
  },
  {
   "cell_type": "code",
   "execution_count": 37,
   "metadata": {
    "execution": {
     "iopub.execute_input": "2020-08-26T01:20:16.234624Z",
     "iopub.status.busy": "2020-08-26T01:20:16.233698Z",
     "iopub.status.idle": "2020-08-26T01:20:16.420710Z",
     "shell.execute_reply": "2020-08-26T01:20:16.419988Z"
    },
    "papermill": {
     "duration": 0.228278,
     "end_time": "2020-08-26T01:20:16.420874",
     "exception": false,
     "start_time": "2020-08-26T01:20:16.192596",
     "status": "completed"
    },
    "tags": []
   },
   "outputs": [],
   "source": [
    "add_col=groups.loc[:,['groupId','kills','revives','weaponsAcquired','teamKills']]\n",
    "\n",
    "#These are the new columns"
   ]
  },
  {
   "cell_type": "code",
   "execution_count": 38,
   "metadata": {
    "execution": {
     "iopub.execute_input": "2020-08-26T01:20:16.496025Z",
     "iopub.status.busy": "2020-08-26T01:20:16.495060Z",
     "iopub.status.idle": "2020-08-26T01:20:16.693157Z",
     "shell.execute_reply": "2020-08-26T01:20:16.692296Z"
    },
    "papermill": {
     "duration": 0.238177,
     "end_time": "2020-08-26T01:20:16.693297",
     "exception": false,
     "start_time": "2020-08-26T01:20:16.455120",
     "status": "completed"
    },
    "tags": []
   },
   "outputs": [],
   "source": [
    "add_col=add_col.rename(columns={'kills':'groupKills','revives':'groupRevives',\n",
    "                                'weaponsAcquired':'groupWeapons','teamKills':'groupOwnKills'})\n",
    "\n",
    "#let's give them nice names "
   ]
  },
  {
   "cell_type": "code",
   "execution_count": 39,
   "metadata": {
    "execution": {
     "iopub.execute_input": "2020-08-26T01:20:16.767431Z",
     "iopub.status.busy": "2020-08-26T01:20:16.766528Z",
     "iopub.status.idle": "2020-08-26T01:20:32.596444Z",
     "shell.execute_reply": "2020-08-26T01:20:32.595532Z"
    },
    "papermill": {
     "duration": 15.869951,
     "end_time": "2020-08-26T01:20:32.596613",
     "exception": false,
     "start_time": "2020-08-26T01:20:16.726662",
     "status": "completed"
    },
    "tags": []
   },
   "outputs": [],
   "source": [
    "df2=df.merge(add_col,how='left',on=['groupId'])\n",
    "#and we merge them with the data"
   ]
  },
  {
   "cell_type": "code",
   "execution_count": 40,
   "metadata": {
    "execution": {
     "iopub.execute_input": "2020-08-26T01:20:32.699732Z",
     "iopub.status.busy": "2020-08-26T01:20:32.683343Z",
     "iopub.status.idle": "2020-08-26T01:20:32.706562Z",
     "shell.execute_reply": "2020-08-26T01:20:32.705774Z"
    },
    "papermill": {
     "duration": 0.075185,
     "end_time": "2020-08-26T01:20:32.706713",
     "exception": false,
     "start_time": "2020-08-26T01:20:32.631528",
     "status": "completed"
    },
    "tags": []
   },
   "outputs": [
    {
     "data": {
      "text/html": [
       "<div>\n",
       "<style scoped>\n",
       "    .dataframe tbody tr th:only-of-type {\n",
       "        vertical-align: middle;\n",
       "    }\n",
       "\n",
       "    .dataframe tbody tr th {\n",
       "        vertical-align: top;\n",
       "    }\n",
       "\n",
       "    .dataframe thead th {\n",
       "        text-align: right;\n",
       "    }\n",
       "</style>\n",
       "<table border=\"1\" class=\"dataframe\">\n",
       "  <thead>\n",
       "    <tr style=\"text-align: right;\">\n",
       "      <th></th>\n",
       "      <th>Id</th>\n",
       "      <th>groupId</th>\n",
       "      <th>matchId</th>\n",
       "      <th>assists</th>\n",
       "      <th>boosts</th>\n",
       "      <th>damageDealt</th>\n",
       "      <th>DBNOs</th>\n",
       "      <th>headshotKills</th>\n",
       "      <th>heals</th>\n",
       "      <th>killPlace</th>\n",
       "      <th>killPoints</th>\n",
       "      <th>kills</th>\n",
       "      <th>killStreaks</th>\n",
       "      <th>longestKill</th>\n",
       "      <th>matchDuration</th>\n",
       "      <th>matchType</th>\n",
       "      <th>maxPlace</th>\n",
       "      <th>numGroups</th>\n",
       "      <th>rankPoints</th>\n",
       "      <th>revives</th>\n",
       "      <th>rideDistance</th>\n",
       "      <th>roadKills</th>\n",
       "      <th>swimDistance</th>\n",
       "      <th>teamKills</th>\n",
       "      <th>vehicleDestroys</th>\n",
       "      <th>walkDistance</th>\n",
       "      <th>weaponsAcquired</th>\n",
       "      <th>winPoints</th>\n",
       "      <th>winPlacePerc</th>\n",
       "      <th>groupKills</th>\n",
       "      <th>groupRevives</th>\n",
       "      <th>groupWeapons</th>\n",
       "      <th>groupOwnKills</th>\n",
       "    </tr>\n",
       "  </thead>\n",
       "  <tbody>\n",
       "    <tr>\n",
       "      <th>0</th>\n",
       "      <td>7f96b2f878858a</td>\n",
       "      <td>4d4b580de459be</td>\n",
       "      <td>a10357fd1a4a91</td>\n",
       "      <td>0</td>\n",
       "      <td>0</td>\n",
       "      <td>0.00</td>\n",
       "      <td>0</td>\n",
       "      <td>0</td>\n",
       "      <td>0</td>\n",
       "      <td>60</td>\n",
       "      <td>1241</td>\n",
       "      <td>0</td>\n",
       "      <td>0</td>\n",
       "      <td>0.00</td>\n",
       "      <td>1306</td>\n",
       "      <td>squad-fpp</td>\n",
       "      <td>28</td>\n",
       "      <td>26</td>\n",
       "      <td>-1</td>\n",
       "      <td>0</td>\n",
       "      <td>0.0000</td>\n",
       "      <td>0</td>\n",
       "      <td>0.00</td>\n",
       "      <td>0</td>\n",
       "      <td>0</td>\n",
       "      <td>244.80</td>\n",
       "      <td>1</td>\n",
       "      <td>1466</td>\n",
       "      <td>0.4444</td>\n",
       "      <td>4</td>\n",
       "      <td>0</td>\n",
       "      <td>5</td>\n",
       "      <td>0</td>\n",
       "    </tr>\n",
       "    <tr>\n",
       "      <th>1</th>\n",
       "      <td>eef90569b9d03c</td>\n",
       "      <td>684d5656442f9e</td>\n",
       "      <td>aeb375fc57110c</td>\n",
       "      <td>0</td>\n",
       "      <td>0</td>\n",
       "      <td>91.47</td>\n",
       "      <td>0</td>\n",
       "      <td>0</td>\n",
       "      <td>0</td>\n",
       "      <td>57</td>\n",
       "      <td>0</td>\n",
       "      <td>0</td>\n",
       "      <td>0</td>\n",
       "      <td>0.00</td>\n",
       "      <td>1777</td>\n",
       "      <td>squad-fpp</td>\n",
       "      <td>26</td>\n",
       "      <td>25</td>\n",
       "      <td>1484</td>\n",
       "      <td>0</td>\n",
       "      <td>0.0045</td>\n",
       "      <td>0</td>\n",
       "      <td>11.04</td>\n",
       "      <td>0</td>\n",
       "      <td>0</td>\n",
       "      <td>1434.00</td>\n",
       "      <td>5</td>\n",
       "      <td>0</td>\n",
       "      <td>0.6400</td>\n",
       "      <td>4</td>\n",
       "      <td>0</td>\n",
       "      <td>24</td>\n",
       "      <td>0</td>\n",
       "    </tr>\n",
       "    <tr>\n",
       "      <th>2</th>\n",
       "      <td>1eaf90ac73de72</td>\n",
       "      <td>6a4a42c3245a74</td>\n",
       "      <td>110163d8bb94ae</td>\n",
       "      <td>1</td>\n",
       "      <td>0</td>\n",
       "      <td>68.00</td>\n",
       "      <td>0</td>\n",
       "      <td>0</td>\n",
       "      <td>0</td>\n",
       "      <td>47</td>\n",
       "      <td>0</td>\n",
       "      <td>0</td>\n",
       "      <td>0</td>\n",
       "      <td>0.00</td>\n",
       "      <td>1318</td>\n",
       "      <td>duo</td>\n",
       "      <td>50</td>\n",
       "      <td>47</td>\n",
       "      <td>1491</td>\n",
       "      <td>0</td>\n",
       "      <td>0.0000</td>\n",
       "      <td>0</td>\n",
       "      <td>0.00</td>\n",
       "      <td>0</td>\n",
       "      <td>0</td>\n",
       "      <td>161.80</td>\n",
       "      <td>2</td>\n",
       "      <td>0</td>\n",
       "      <td>0.7755</td>\n",
       "      <td>2</td>\n",
       "      <td>0</td>\n",
       "      <td>4</td>\n",
       "      <td>0</td>\n",
       "    </tr>\n",
       "    <tr>\n",
       "      <th>3</th>\n",
       "      <td>4616d365dd2853</td>\n",
       "      <td>a930a9c79cd721</td>\n",
       "      <td>f1f1f4ef412d7e</td>\n",
       "      <td>0</td>\n",
       "      <td>0</td>\n",
       "      <td>32.90</td>\n",
       "      <td>0</td>\n",
       "      <td>0</td>\n",
       "      <td>0</td>\n",
       "      <td>75</td>\n",
       "      <td>0</td>\n",
       "      <td>0</td>\n",
       "      <td>0</td>\n",
       "      <td>0.00</td>\n",
       "      <td>1436</td>\n",
       "      <td>squad-fpp</td>\n",
       "      <td>31</td>\n",
       "      <td>30</td>\n",
       "      <td>1408</td>\n",
       "      <td>0</td>\n",
       "      <td>0.0000</td>\n",
       "      <td>0</td>\n",
       "      <td>0.00</td>\n",
       "      <td>0</td>\n",
       "      <td>0</td>\n",
       "      <td>202.70</td>\n",
       "      <td>3</td>\n",
       "      <td>0</td>\n",
       "      <td>0.1667</td>\n",
       "      <td>0</td>\n",
       "      <td>0</td>\n",
       "      <td>3</td>\n",
       "      <td>0</td>\n",
       "    </tr>\n",
       "    <tr>\n",
       "      <th>4</th>\n",
       "      <td>315c96c26c9aac</td>\n",
       "      <td>de04010b3458dd</td>\n",
       "      <td>6dc8ff871e21e6</td>\n",
       "      <td>0</td>\n",
       "      <td>0</td>\n",
       "      <td>100.00</td>\n",
       "      <td>0</td>\n",
       "      <td>0</td>\n",
       "      <td>0</td>\n",
       "      <td>45</td>\n",
       "      <td>0</td>\n",
       "      <td>1</td>\n",
       "      <td>1</td>\n",
       "      <td>58.53</td>\n",
       "      <td>1424</td>\n",
       "      <td>solo-fpp</td>\n",
       "      <td>97</td>\n",
       "      <td>95</td>\n",
       "      <td>1560</td>\n",
       "      <td>0</td>\n",
       "      <td>0.0000</td>\n",
       "      <td>0</td>\n",
       "      <td>0.00</td>\n",
       "      <td>0</td>\n",
       "      <td>0</td>\n",
       "      <td>49.75</td>\n",
       "      <td>2</td>\n",
       "      <td>0</td>\n",
       "      <td>0.1875</td>\n",
       "      <td>1</td>\n",
       "      <td>0</td>\n",
       "      <td>2</td>\n",
       "      <td>0</td>\n",
       "    </tr>\n",
       "  </tbody>\n",
       "</table>\n",
       "</div>"
      ],
      "text/plain": [
       "               Id         groupId         matchId  assists  boosts  \\\n",
       "0  7f96b2f878858a  4d4b580de459be  a10357fd1a4a91        0       0   \n",
       "1  eef90569b9d03c  684d5656442f9e  aeb375fc57110c        0       0   \n",
       "2  1eaf90ac73de72  6a4a42c3245a74  110163d8bb94ae        1       0   \n",
       "3  4616d365dd2853  a930a9c79cd721  f1f1f4ef412d7e        0       0   \n",
       "4  315c96c26c9aac  de04010b3458dd  6dc8ff871e21e6        0       0   \n",
       "\n",
       "   damageDealt  DBNOs  headshotKills  heals  killPlace  killPoints  kills  \\\n",
       "0         0.00      0              0      0         60        1241      0   \n",
       "1        91.47      0              0      0         57           0      0   \n",
       "2        68.00      0              0      0         47           0      0   \n",
       "3        32.90      0              0      0         75           0      0   \n",
       "4       100.00      0              0      0         45           0      1   \n",
       "\n",
       "   killStreaks  longestKill  matchDuration  matchType  maxPlace  numGroups  \\\n",
       "0            0         0.00           1306  squad-fpp        28         26   \n",
       "1            0         0.00           1777  squad-fpp        26         25   \n",
       "2            0         0.00           1318        duo        50         47   \n",
       "3            0         0.00           1436  squad-fpp        31         30   \n",
       "4            1        58.53           1424   solo-fpp        97         95   \n",
       "\n",
       "   rankPoints  revives  rideDistance  roadKills  swimDistance  teamKills  \\\n",
       "0          -1        0        0.0000          0          0.00          0   \n",
       "1        1484        0        0.0045          0         11.04          0   \n",
       "2        1491        0        0.0000          0          0.00          0   \n",
       "3        1408        0        0.0000          0          0.00          0   \n",
       "4        1560        0        0.0000          0          0.00          0   \n",
       "\n",
       "   vehicleDestroys  walkDistance  weaponsAcquired  winPoints  winPlacePerc  \\\n",
       "0                0        244.80                1       1466        0.4444   \n",
       "1                0       1434.00                5          0        0.6400   \n",
       "2                0        161.80                2          0        0.7755   \n",
       "3                0        202.70                3          0        0.1667   \n",
       "4                0         49.75                2          0        0.1875   \n",
       "\n",
       "   groupKills  groupRevives  groupWeapons  groupOwnKills  \n",
       "0           4             0             5              0  \n",
       "1           4             0            24              0  \n",
       "2           2             0             4              0  \n",
       "3           0             0             3              0  \n",
       "4           1             0             2              0  "
      ]
     },
     "execution_count": 40,
     "metadata": {},
     "output_type": "execute_result"
    }
   ],
   "source": [
    "df2.head()"
   ]
  },
  {
   "cell_type": "code",
   "execution_count": 41,
   "metadata": {
    "execution": {
     "iopub.execute_input": "2020-08-26T01:20:32.845899Z",
     "iopub.status.busy": "2020-08-26T01:20:32.844694Z",
     "iopub.status.idle": "2020-08-26T01:20:32.849060Z",
     "shell.execute_reply": "2020-08-26T01:20:32.848249Z"
    },
    "papermill": {
     "duration": 0.108681,
     "end_time": "2020-08-26T01:20:32.849204",
     "exception": false,
     "start_time": "2020-08-26T01:20:32.740523",
     "status": "completed"
    },
    "tags": []
   },
   "outputs": [],
   "source": [
    "del df \n",
    "del groups\n",
    "del add_col\n",
    "#then get rid of them "
   ]
  },
  {
   "cell_type": "code",
   "execution_count": 42,
   "metadata": {
    "execution": {
     "iopub.execute_input": "2020-08-26T01:20:32.929203Z",
     "iopub.status.busy": "2020-08-26T01:20:32.926803Z",
     "iopub.status.idle": "2020-08-26T01:20:36.336610Z",
     "shell.execute_reply": "2020-08-26T01:20:36.335498Z"
    },
    "papermill": {
     "duration": 3.453623,
     "end_time": "2020-08-26T01:20:36.336787",
     "exception": false,
     "start_time": "2020-08-26T01:20:32.883164",
     "status": "completed"
    },
    "tags": []
   },
   "outputs": [
    {
     "data": {
      "text/html": [
       "<div>\n",
       "<style scoped>\n",
       "    .dataframe tbody tr th:only-of-type {\n",
       "        vertical-align: middle;\n",
       "    }\n",
       "\n",
       "    .dataframe tbody tr th {\n",
       "        vertical-align: top;\n",
       "    }\n",
       "\n",
       "    .dataframe thead th {\n",
       "        text-align: right;\n",
       "    }\n",
       "</style>\n",
       "<table border=\"1\" class=\"dataframe\">\n",
       "  <thead>\n",
       "    <tr style=\"text-align: right;\">\n",
       "      <th></th>\n",
       "      <th>groupKills</th>\n",
       "      <th>groupRevives</th>\n",
       "      <th>groupWeapons</th>\n",
       "      <th>groupOwnKills</th>\n",
       "    </tr>\n",
       "  </thead>\n",
       "  <tbody>\n",
       "    <tr>\n",
       "      <th>count</th>\n",
       "      <td>4.446965e+06</td>\n",
       "      <td>4.446965e+06</td>\n",
       "      <td>4.446965e+06</td>\n",
       "      <td>4.446965e+06</td>\n",
       "    </tr>\n",
       "    <tr>\n",
       "      <th>mean</th>\n",
       "      <td>2.623491e+00</td>\n",
       "      <td>5.476522e-01</td>\n",
       "      <td>1.094753e+01</td>\n",
       "      <td>8.239237e-02</td>\n",
       "    </tr>\n",
       "    <tr>\n",
       "      <th>std</th>\n",
       "      <td>3.771704e+00</td>\n",
       "      <td>1.038985e+00</td>\n",
       "      <td>9.460719e+00</td>\n",
       "      <td>3.868298e-01</td>\n",
       "    </tr>\n",
       "    <tr>\n",
       "      <th>min</th>\n",
       "      <td>0.000000e+00</td>\n",
       "      <td>0.000000e+00</td>\n",
       "      <td>0.000000e+00</td>\n",
       "      <td>0.000000e+00</td>\n",
       "    </tr>\n",
       "    <tr>\n",
       "      <th>25%</th>\n",
       "      <td>0.000000e+00</td>\n",
       "      <td>0.000000e+00</td>\n",
       "      <td>5.000000e+00</td>\n",
       "      <td>0.000000e+00</td>\n",
       "    </tr>\n",
       "    <tr>\n",
       "      <th>50%</th>\n",
       "      <td>2.000000e+00</td>\n",
       "      <td>0.000000e+00</td>\n",
       "      <td>9.000000e+00</td>\n",
       "      <td>0.000000e+00</td>\n",
       "    </tr>\n",
       "    <tr>\n",
       "      <th>75%</th>\n",
       "      <td>4.000000e+00</td>\n",
       "      <td>1.000000e+00</td>\n",
       "      <td>1.500000e+01</td>\n",
       "      <td>0.000000e+00</td>\n",
       "    </tr>\n",
       "    <tr>\n",
       "      <th>max</th>\n",
       "      <td>1.990000e+02</td>\n",
       "      <td>4.200000e+01</td>\n",
       "      <td>6.030000e+02</td>\n",
       "      <td>5.600000e+01</td>\n",
       "    </tr>\n",
       "  </tbody>\n",
       "</table>\n",
       "</div>"
      ],
      "text/plain": [
       "         groupKills  groupRevives  groupWeapons  groupOwnKills\n",
       "count  4.446965e+06  4.446965e+06  4.446965e+06   4.446965e+06\n",
       "mean   2.623491e+00  5.476522e-01  1.094753e+01   8.239237e-02\n",
       "std    3.771704e+00  1.038985e+00  9.460719e+00   3.868298e-01\n",
       "min    0.000000e+00  0.000000e+00  0.000000e+00   0.000000e+00\n",
       "25%    0.000000e+00  0.000000e+00  5.000000e+00   0.000000e+00\n",
       "50%    2.000000e+00  0.000000e+00  9.000000e+00   0.000000e+00\n",
       "75%    4.000000e+00  1.000000e+00  1.500000e+01   0.000000e+00\n",
       "max    1.990000e+02  4.200000e+01  6.030000e+02   5.600000e+01"
      ]
     },
     "execution_count": 42,
     "metadata": {},
     "output_type": "execute_result"
    }
   ],
   "source": [
    "df2.loc[:,['groupKills','groupRevives','groupWeapons','groupOwnKills']].describe()"
   ]
  },
  {
   "cell_type": "markdown",
   "execution_count": null,
   "metadata": {
    "papermill": {
     "duration": 0.03483,
     "end_time": "2020-08-26T01:20:36.410366",
     "exception": false,
     "start_time": "2020-08-26T01:20:36.375536",
     "status": "completed"
    },
    "tags": []
   },
   "source": [
    "## Let's visualize these new features "
   ]
  },
  {
   "cell_type": "code",
   "execution_count": 43,
   "metadata": {
    "execution": {
     "iopub.execute_input": "2020-08-26T01:20:36.488378Z",
     "iopub.status.busy": "2020-08-26T01:20:36.487028Z",
     "iopub.status.idle": "2020-08-26T01:20:36.671526Z",
     "shell.execute_reply": "2020-08-26T01:20:36.670579Z"
    },
    "papermill": {
     "duration": 0.226669,
     "end_time": "2020-08-26T01:20:36.671690",
     "exception": false,
     "start_time": "2020-08-26T01:20:36.445021",
     "status": "completed"
    },
    "tags": []
   },
   "outputs": [],
   "source": [
    "gkills=pd.cut(df2['groupKills'],[1,10,20,40,60,80,200],\n",
    "              labels=['1-10','10-20','20-40','40-60','60-80','+80'])"
   ]
  },
  {
   "cell_type": "code",
   "execution_count": 44,
   "metadata": {
    "execution": {
     "iopub.execute_input": "2020-08-26T01:20:36.749384Z",
     "iopub.status.busy": "2020-08-26T01:20:36.748498Z",
     "iopub.status.idle": "2020-08-26T01:20:37.309962Z",
     "shell.execute_reply": "2020-08-26T01:20:37.309068Z"
    },
    "papermill": {
     "duration": 0.603929,
     "end_time": "2020-08-26T01:20:37.310119",
     "exception": false,
     "start_time": "2020-08-26T01:20:36.706190",
     "status": "completed"
    },
    "tags": []
   },
   "outputs": [
    {
     "data": {
      "image/png": "[encoded data removed]",
      "text/plain": [
       "<Figure size 936x432 with 1 Axes>"
      ]
     },
     "metadata": {
      "needs_background": "light"
     },
     "output_type": "display_data"
    }
   ],
   "source": [
    "plt.figure(figsize=(13,6))\n",
    "sns.boxplot(x=gkills,y=df2['winPlacePerc'])\n",
    "plt.show()"
   ]
  },
  {
   "cell_type": "code",
   "execution_count": 45,
   "metadata": {
    "execution": {
     "iopub.execute_input": "2020-08-26T01:20:37.389562Z",
     "iopub.status.busy": "2020-08-26T01:20:37.388562Z",
     "iopub.status.idle": "2020-08-26T01:20:37.561857Z",
     "shell.execute_reply": "2020-08-26T01:20:37.561099Z"
    },
    "papermill": {
     "duration": 0.217352,
     "end_time": "2020-08-26T01:20:37.562027",
     "exception": false,
     "start_time": "2020-08-26T01:20:37.344675",
     "status": "completed"
    },
    "tags": []
   },
   "outputs": [],
   "source": [
    "gweapons_num=pd.cut(df2['groupWeapons'],[0,2,6,12,25,50,100,200,300,700],\n",
    "                labels=['0-2','2-6','6-12','12-25','25-50','50-100','100-200','200-300','+300'])"
   ]
  },
  {
   "cell_type": "code",
   "execution_count": 46,
   "metadata": {
    "execution": {
     "iopub.execute_input": "2020-08-26T01:20:37.648208Z",
     "iopub.status.busy": "2020-08-26T01:20:37.647318Z",
     "iopub.status.idle": "2020-08-26T01:20:38.437930Z",
     "shell.execute_reply": "2020-08-26T01:20:38.437122Z"
    },
    "papermill": {
     "duration": 0.840099,
     "end_time": "2020-08-26T01:20:38.438114",
     "exception": false,
     "start_time": "2020-08-26T01:20:37.598015",
     "status": "completed"
    },
    "tags": []
   },
   "outputs": [
    {
     "data": {
      "image/png": "[encoded data removed]",
      "text/plain": [
       "<Figure size 936x432 with 1 Axes>"
      ]
     },
     "metadata": {
      "needs_background": "light"
     },
     "output_type": "display_data"
    }
   ],
   "source": [
    "plt.figure(figsize=(13,6))\n",
    "sns.boxplot(x=gweapons_num,y=df2['winPlacePerc'])\n",
    "plt.show()\n",
    "\n",
    "#Your group should have from 12 to 25 to be close to win \n",
    "#because the game is not about collecting weapons"
   ]
  },
  {
   "cell_type": "code",
   "execution_count": 47,
   "metadata": {
    "execution": {
     "iopub.execute_input": "2020-08-26T01:20:38.520540Z",
     "iopub.status.busy": "2020-08-26T01:20:38.519233Z",
     "iopub.status.idle": "2020-08-26T01:20:38.680418Z",
     "shell.execute_reply": "2020-08-26T01:20:38.679622Z"
    },
    "papermill": {
     "duration": 0.206041,
     "end_time": "2020-08-26T01:20:38.680573",
     "exception": false,
     "start_time": "2020-08-26T01:20:38.474532",
     "status": "completed"
    },
    "tags": []
   },
   "outputs": [],
   "source": [
    "grevives=pd.cut(df2['groupRevives'],[0,2,4,8,15,30,50],\n",
    "                labels=['0-2','2-4','4-8','8-15','15-30','+30'])"
   ]
  },
  {
   "cell_type": "code",
   "execution_count": 48,
   "metadata": {
    "execution": {
     "iopub.execute_input": "2020-08-26T01:20:38.763570Z",
     "iopub.status.busy": "2020-08-26T01:20:38.762692Z",
     "iopub.status.idle": "2020-08-26T01:20:39.409530Z",
     "shell.execute_reply": "2020-08-26T01:20:39.408674Z"
    },
    "papermill": {
     "duration": 0.694136,
     "end_time": "2020-08-26T01:20:39.409712",
     "exception": false,
     "start_time": "2020-08-26T01:20:38.715576",
     "status": "completed"
    },
    "tags": []
   },
   "outputs": [
    {
     "data": {
      "image/png": "[encoded data removed]",
      "text/plain": [
       "<Figure size 936x432 with 1 Axes>"
      ]
     },
     "metadata": {
      "needs_background": "light"
     },
     "output_type": "display_data"
    }
   ],
   "source": [
    "plt.figure(figsize=(13,6))\n",
    "sns.boxplot(x=grevives,y=df2['winPlacePerc'])\n",
    "plt.show()"
   ]
  },
  {
   "cell_type": "markdown",
   "execution_count": null,
   "metadata": {
    "papermill": {
     "duration": 0.03531,
     "end_time": "2020-08-26T01:20:39.481912",
     "exception": false,
     "start_time": "2020-08-26T01:20:39.446602",
     "status": "completed"
    },
    "tags": []
   },
   "source": [
    "> # So to make your win more certain, you should have minimum 6 weapons ,10 kills,5 headshots,your group make about 4 revives and run a lot if you are not a hacker anyway"
   ]
  },
  {
   "cell_type": "markdown",
   "execution_count": null,
   "metadata": {
    "papermill": {
     "duration": 0.035341,
     "end_time": "2020-08-26T01:20:39.553224",
     "exception": false,
     "start_time": "2020-08-26T01:20:39.517883",
     "status": "completed"
    },
    "tags": []
   },
   "source": [
    "# Preparing the data for the model"
   ]
  },
  {
   "cell_type": "code",
   "execution_count": 49,
   "metadata": {
    "execution": {
     "iopub.execute_input": "2020-08-26T01:20:39.659871Z",
     "iopub.status.busy": "2020-08-26T01:20:39.658816Z",
     "iopub.status.idle": "2020-08-26T01:20:39.664459Z",
     "shell.execute_reply": "2020-08-26T01:20:39.663832Z"
    },
    "papermill": {
     "duration": 0.075353,
     "end_time": "2020-08-26T01:20:39.664613",
     "exception": false,
     "start_time": "2020-08-26T01:20:39.589260",
     "status": "completed"
    },
    "tags": []
   },
   "outputs": [
    {
     "data": {
      "text/html": [
       "<div>\n",
       "<style scoped>\n",
       "    .dataframe tbody tr th:only-of-type {\n",
       "        vertical-align: middle;\n",
       "    }\n",
       "\n",
       "    .dataframe tbody tr th {\n",
       "        vertical-align: top;\n",
       "    }\n",
       "\n",
       "    .dataframe thead th {\n",
       "        text-align: right;\n",
       "    }\n",
       "</style>\n",
       "<table border=\"1\" class=\"dataframe\">\n",
       "  <thead>\n",
       "    <tr style=\"text-align: right;\">\n",
       "      <th></th>\n",
       "      <th>Id</th>\n",
       "      <th>groupId</th>\n",
       "      <th>matchId</th>\n",
       "      <th>assists</th>\n",
       "      <th>boosts</th>\n",
       "      <th>damageDealt</th>\n",
       "      <th>DBNOs</th>\n",
       "      <th>headshotKills</th>\n",
       "      <th>heals</th>\n",
       "      <th>killPlace</th>\n",
       "      <th>killPoints</th>\n",
       "      <th>kills</th>\n",
       "      <th>killStreaks</th>\n",
       "      <th>longestKill</th>\n",
       "      <th>matchDuration</th>\n",
       "      <th>matchType</th>\n",
       "      <th>maxPlace</th>\n",
       "      <th>numGroups</th>\n",
       "      <th>rankPoints</th>\n",
       "      <th>revives</th>\n",
       "      <th>rideDistance</th>\n",
       "      <th>roadKills</th>\n",
       "      <th>swimDistance</th>\n",
       "      <th>teamKills</th>\n",
       "      <th>vehicleDestroys</th>\n",
       "      <th>walkDistance</th>\n",
       "      <th>weaponsAcquired</th>\n",
       "      <th>winPoints</th>\n",
       "      <th>winPlacePerc</th>\n",
       "      <th>groupKills</th>\n",
       "      <th>groupRevives</th>\n",
       "      <th>groupWeapons</th>\n",
       "      <th>groupOwnKills</th>\n",
       "    </tr>\n",
       "  </thead>\n",
       "  <tbody>\n",
       "    <tr>\n",
       "      <th>0</th>\n",
       "      <td>7f96b2f878858a</td>\n",
       "      <td>4d4b580de459be</td>\n",
       "      <td>a10357fd1a4a91</td>\n",
       "      <td>0</td>\n",
       "      <td>0</td>\n",
       "      <td>0.00</td>\n",
       "      <td>0</td>\n",
       "      <td>0</td>\n",
       "      <td>0</td>\n",
       "      <td>60</td>\n",
       "      <td>1241</td>\n",
       "      <td>0</td>\n",
       "      <td>0</td>\n",
       "      <td>0.00</td>\n",
       "      <td>1306</td>\n",
       "      <td>squad-fpp</td>\n",
       "      <td>28</td>\n",
       "      <td>26</td>\n",
       "      <td>-1</td>\n",
       "      <td>0</td>\n",
       "      <td>0.0000</td>\n",
       "      <td>0</td>\n",
       "      <td>0.00</td>\n",
       "      <td>0</td>\n",
       "      <td>0</td>\n",
       "      <td>244.80</td>\n",
       "      <td>1</td>\n",
       "      <td>1466</td>\n",
       "      <td>0.4444</td>\n",
       "      <td>4</td>\n",
       "      <td>0</td>\n",
       "      <td>5</td>\n",
       "      <td>0</td>\n",
       "    </tr>\n",
       "    <tr>\n",
       "      <th>1</th>\n",
       "      <td>eef90569b9d03c</td>\n",
       "      <td>684d5656442f9e</td>\n",
       "      <td>aeb375fc57110c</td>\n",
       "      <td>0</td>\n",
       "      <td>0</td>\n",
       "      <td>91.47</td>\n",
       "      <td>0</td>\n",
       "      <td>0</td>\n",
       "      <td>0</td>\n",
       "      <td>57</td>\n",
       "      <td>0</td>\n",
       "      <td>0</td>\n",
       "      <td>0</td>\n",
       "      <td>0.00</td>\n",
       "      <td>1777</td>\n",
       "      <td>squad-fpp</td>\n",
       "      <td>26</td>\n",
       "      <td>25</td>\n",
       "      <td>1484</td>\n",
       "      <td>0</td>\n",
       "      <td>0.0045</td>\n",
       "      <td>0</td>\n",
       "      <td>11.04</td>\n",
       "      <td>0</td>\n",
       "      <td>0</td>\n",
       "      <td>1434.00</td>\n",
       "      <td>5</td>\n",
       "      <td>0</td>\n",
       "      <td>0.6400</td>\n",
       "      <td>4</td>\n",
       "      <td>0</td>\n",
       "      <td>24</td>\n",
       "      <td>0</td>\n",
       "    </tr>\n",
       "    <tr>\n",
       "      <th>2</th>\n",
       "      <td>1eaf90ac73de72</td>\n",
       "      <td>6a4a42c3245a74</td>\n",
       "      <td>110163d8bb94ae</td>\n",
       "      <td>1</td>\n",
       "      <td>0</td>\n",
       "      <td>68.00</td>\n",
       "      <td>0</td>\n",
       "      <td>0</td>\n",
       "      <td>0</td>\n",
       "      <td>47</td>\n",
       "      <td>0</td>\n",
       "      <td>0</td>\n",
       "      <td>0</td>\n",
       "      <td>0.00</td>\n",
       "      <td>1318</td>\n",
       "      <td>duo</td>\n",
       "      <td>50</td>\n",
       "      <td>47</td>\n",
       "      <td>1491</td>\n",
       "      <td>0</td>\n",
       "      <td>0.0000</td>\n",
       "      <td>0</td>\n",
       "      <td>0.00</td>\n",
       "      <td>0</td>\n",
       "      <td>0</td>\n",
       "      <td>161.80</td>\n",
       "      <td>2</td>\n",
       "      <td>0</td>\n",
       "      <td>0.7755</td>\n",
       "      <td>2</td>\n",
       "      <td>0</td>\n",
       "      <td>4</td>\n",
       "      <td>0</td>\n",
       "    </tr>\n",
       "    <tr>\n",
       "      <th>3</th>\n",
       "      <td>4616d365dd2853</td>\n",
       "      <td>a930a9c79cd721</td>\n",
       "      <td>f1f1f4ef412d7e</td>\n",
       "      <td>0</td>\n",
       "      <td>0</td>\n",
       "      <td>32.90</td>\n",
       "      <td>0</td>\n",
       "      <td>0</td>\n",
       "      <td>0</td>\n",
       "      <td>75</td>\n",
       "      <td>0</td>\n",
       "      <td>0</td>\n",
       "      <td>0</td>\n",
       "      <td>0.00</td>\n",
       "      <td>1436</td>\n",
       "      <td>squad-fpp</td>\n",
       "      <td>31</td>\n",
       "      <td>30</td>\n",
       "      <td>1408</td>\n",
       "      <td>0</td>\n",
       "      <td>0.0000</td>\n",
       "      <td>0</td>\n",
       "      <td>0.00</td>\n",
       "      <td>0</td>\n",
       "      <td>0</td>\n",
       "      <td>202.70</td>\n",
       "      <td>3</td>\n",
       "      <td>0</td>\n",
       "      <td>0.1667</td>\n",
       "      <td>0</td>\n",
       "      <td>0</td>\n",
       "      <td>3</td>\n",
       "      <td>0</td>\n",
       "    </tr>\n",
       "    <tr>\n",
       "      <th>4</th>\n",
       "      <td>315c96c26c9aac</td>\n",
       "      <td>de04010b3458dd</td>\n",
       "      <td>6dc8ff871e21e6</td>\n",
       "      <td>0</td>\n",
       "      <td>0</td>\n",
       "      <td>100.00</td>\n",
       "      <td>0</td>\n",
       "      <td>0</td>\n",
       "      <td>0</td>\n",
       "      <td>45</td>\n",
       "      <td>0</td>\n",
       "      <td>1</td>\n",
       "      <td>1</td>\n",
       "      <td>58.53</td>\n",
       "      <td>1424</td>\n",
       "      <td>solo-fpp</td>\n",
       "      <td>97</td>\n",
       "      <td>95</td>\n",
       "      <td>1560</td>\n",
       "      <td>0</td>\n",
       "      <td>0.0000</td>\n",
       "      <td>0</td>\n",
       "      <td>0.00</td>\n",
       "      <td>0</td>\n",
       "      <td>0</td>\n",
       "      <td>49.75</td>\n",
       "      <td>2</td>\n",
       "      <td>0</td>\n",
       "      <td>0.1875</td>\n",
       "      <td>1</td>\n",
       "      <td>0</td>\n",
       "      <td>2</td>\n",
       "      <td>0</td>\n",
       "    </tr>\n",
       "  </tbody>\n",
       "</table>\n",
       "</div>"
      ],
      "text/plain": [
       "               Id         groupId         matchId  assists  boosts  \\\n",
       "0  7f96b2f878858a  4d4b580de459be  a10357fd1a4a91        0       0   \n",
       "1  eef90569b9d03c  684d5656442f9e  aeb375fc57110c        0       0   \n",
       "2  1eaf90ac73de72  6a4a42c3245a74  110163d8bb94ae        1       0   \n",
       "3  4616d365dd2853  a930a9c79cd721  f1f1f4ef412d7e        0       0   \n",
       "4  315c96c26c9aac  de04010b3458dd  6dc8ff871e21e6        0       0   \n",
       "\n",
       "   damageDealt  DBNOs  headshotKills  heals  killPlace  killPoints  kills  \\\n",
       "0         0.00      0              0      0         60        1241      0   \n",
       "1        91.47      0              0      0         57           0      0   \n",
       "2        68.00      0              0      0         47           0      0   \n",
       "3        32.90      0              0      0         75           0      0   \n",
       "4       100.00      0              0      0         45           0      1   \n",
       "\n",
       "   killStreaks  longestKill  matchDuration  matchType  maxPlace  numGroups  \\\n",
       "0            0         0.00           1306  squad-fpp        28         26   \n",
       "1            0         0.00           1777  squad-fpp        26         25   \n",
       "2            0         0.00           1318        duo        50         47   \n",
       "3            0         0.00           1436  squad-fpp        31         30   \n",
       "4            1        58.53           1424   solo-fpp        97         95   \n",
       "\n",
       "   rankPoints  revives  rideDistance  roadKills  swimDistance  teamKills  \\\n",
       "0          -1        0        0.0000          0          0.00          0   \n",
       "1        1484        0        0.0045          0         11.04          0   \n",
       "2        1491        0        0.0000          0          0.00          0   \n",
       "3        1408        0        0.0000          0          0.00          0   \n",
       "4        1560        0        0.0000          0          0.00          0   \n",
       "\n",
       "   vehicleDestroys  walkDistance  weaponsAcquired  winPoints  winPlacePerc  \\\n",
       "0                0        244.80                1       1466        0.4444   \n",
       "1                0       1434.00                5          0        0.6400   \n",
       "2                0        161.80                2          0        0.7755   \n",
       "3                0        202.70                3          0        0.1667   \n",
       "4                0         49.75                2          0        0.1875   \n",
       "\n",
       "   groupKills  groupRevives  groupWeapons  groupOwnKills  \n",
       "0           4             0             5              0  \n",
       "1           4             0            24              0  \n",
       "2           2             0             4              0  \n",
       "3           0             0             3              0  \n",
       "4           1             0             2              0  "
      ]
     },
     "execution_count": 49,
     "metadata": {},
     "output_type": "execute_result"
    }
   ],
   "source": [
    "df2.head()"
   ]
  },
  {
   "cell_type": "code",
   "execution_count": 50,
   "metadata": {
    "execution": {
     "iopub.execute_input": "2020-08-26T01:20:39.821074Z",
     "iopub.status.busy": "2020-08-26T01:20:39.819887Z",
     "iopub.status.idle": "2020-08-26T01:20:40.601249Z",
     "shell.execute_reply": "2020-08-26T01:20:40.600417Z"
    },
    "papermill": {
     "duration": 0.9012,
     "end_time": "2020-08-26T01:20:40.601424",
     "exception": false,
     "start_time": "2020-08-26T01:20:39.700224",
     "status": "completed"
    },
    "tags": []
   },
   "outputs": [],
   "source": [
    "df2['matchType']=df2.matchType.astype('category') #make it categorical to encode"
   ]
  },
  {
   "cell_type": "code",
   "execution_count": 51,
   "metadata": {
    "execution": {
     "iopub.execute_input": "2020-08-26T01:20:40.681747Z",
     "iopub.status.busy": "2020-08-26T01:20:40.680894Z",
     "iopub.status.idle": "2020-08-26T01:20:40.687059Z",
     "shell.execute_reply": "2020-08-26T01:20:40.686276Z"
    },
    "papermill": {
     "duration": 0.049427,
     "end_time": "2020-08-26T01:20:40.687200",
     "exception": false,
     "start_time": "2020-08-26T01:20:40.637773",
     "status": "completed"
    },
    "tags": []
   },
   "outputs": [],
   "source": [
    "df2['matchtype']=df2['matchType'].cat.codes  #encoding"
   ]
  },
  {
   "cell_type": "code",
   "execution_count": 52,
   "metadata": {
    "execution": {
     "iopub.execute_input": "2020-08-26T01:20:40.796286Z",
     "iopub.status.busy": "2020-08-26T01:20:40.795195Z",
     "iopub.status.idle": "2020-08-26T01:20:40.800952Z",
     "shell.execute_reply": "2020-08-26T01:20:40.800131Z"
    },
    "papermill": {
     "duration": 0.076659,
     "end_time": "2020-08-26T01:20:40.801094",
     "exception": false,
     "start_time": "2020-08-26T01:20:40.724435",
     "status": "completed"
    },
    "tags": []
   },
   "outputs": [
    {
     "data": {
      "text/html": [
       "<div>\n",
       "<style scoped>\n",
       "    .dataframe tbody tr th:only-of-type {\n",
       "        vertical-align: middle;\n",
       "    }\n",
       "\n",
       "    .dataframe tbody tr th {\n",
       "        vertical-align: top;\n",
       "    }\n",
       "\n",
       "    .dataframe thead th {\n",
       "        text-align: right;\n",
       "    }\n",
       "</style>\n",
       "<table border=\"1\" class=\"dataframe\">\n",
       "  <thead>\n",
       "    <tr style=\"text-align: right;\">\n",
       "      <th></th>\n",
       "      <th>Id</th>\n",
       "      <th>groupId</th>\n",
       "      <th>matchId</th>\n",
       "      <th>assists</th>\n",
       "      <th>boosts</th>\n",
       "      <th>damageDealt</th>\n",
       "      <th>DBNOs</th>\n",
       "      <th>headshotKills</th>\n",
       "      <th>heals</th>\n",
       "      <th>killPlace</th>\n",
       "      <th>killPoints</th>\n",
       "      <th>kills</th>\n",
       "      <th>killStreaks</th>\n",
       "      <th>longestKill</th>\n",
       "      <th>matchDuration</th>\n",
       "      <th>matchType</th>\n",
       "      <th>maxPlace</th>\n",
       "      <th>numGroups</th>\n",
       "      <th>rankPoints</th>\n",
       "      <th>revives</th>\n",
       "      <th>rideDistance</th>\n",
       "      <th>roadKills</th>\n",
       "      <th>swimDistance</th>\n",
       "      <th>teamKills</th>\n",
       "      <th>vehicleDestroys</th>\n",
       "      <th>walkDistance</th>\n",
       "      <th>weaponsAcquired</th>\n",
       "      <th>winPoints</th>\n",
       "      <th>winPlacePerc</th>\n",
       "      <th>groupKills</th>\n",
       "      <th>groupRevives</th>\n",
       "      <th>groupWeapons</th>\n",
       "      <th>groupOwnKills</th>\n",
       "      <th>matchtype</th>\n",
       "    </tr>\n",
       "  </thead>\n",
       "  <tbody>\n",
       "    <tr>\n",
       "      <th>0</th>\n",
       "      <td>7f96b2f878858a</td>\n",
       "      <td>4d4b580de459be</td>\n",
       "      <td>a10357fd1a4a91</td>\n",
       "      <td>0</td>\n",
       "      <td>0</td>\n",
       "      <td>0.00</td>\n",
       "      <td>0</td>\n",
       "      <td>0</td>\n",
       "      <td>0</td>\n",
       "      <td>60</td>\n",
       "      <td>1241</td>\n",
       "      <td>0</td>\n",
       "      <td>0</td>\n",
       "      <td>0.00</td>\n",
       "      <td>1306</td>\n",
       "      <td>squad-fpp</td>\n",
       "      <td>28</td>\n",
       "      <td>26</td>\n",
       "      <td>-1</td>\n",
       "      <td>0</td>\n",
       "      <td>0.0000</td>\n",
       "      <td>0</td>\n",
       "      <td>0.00</td>\n",
       "      <td>0</td>\n",
       "      <td>0</td>\n",
       "      <td>244.80</td>\n",
       "      <td>1</td>\n",
       "      <td>1466</td>\n",
       "      <td>0.4444</td>\n",
       "      <td>4</td>\n",
       "      <td>0</td>\n",
       "      <td>5</td>\n",
       "      <td>0</td>\n",
       "      <td>15</td>\n",
       "    </tr>\n",
       "    <tr>\n",
       "      <th>1</th>\n",
       "      <td>eef90569b9d03c</td>\n",
       "      <td>684d5656442f9e</td>\n",
       "      <td>aeb375fc57110c</td>\n",
       "      <td>0</td>\n",
       "      <td>0</td>\n",
       "      <td>91.47</td>\n",
       "      <td>0</td>\n",
       "      <td>0</td>\n",
       "      <td>0</td>\n",
       "      <td>57</td>\n",
       "      <td>0</td>\n",
       "      <td>0</td>\n",
       "      <td>0</td>\n",
       "      <td>0.00</td>\n",
       "      <td>1777</td>\n",
       "      <td>squad-fpp</td>\n",
       "      <td>26</td>\n",
       "      <td>25</td>\n",
       "      <td>1484</td>\n",
       "      <td>0</td>\n",
       "      <td>0.0045</td>\n",
       "      <td>0</td>\n",
       "      <td>11.04</td>\n",
       "      <td>0</td>\n",
       "      <td>0</td>\n",
       "      <td>1434.00</td>\n",
       "      <td>5</td>\n",
       "      <td>0</td>\n",
       "      <td>0.6400</td>\n",
       "      <td>4</td>\n",
       "      <td>0</td>\n",
       "      <td>24</td>\n",
       "      <td>0</td>\n",
       "      <td>15</td>\n",
       "    </tr>\n",
       "    <tr>\n",
       "      <th>2</th>\n",
       "      <td>1eaf90ac73de72</td>\n",
       "      <td>6a4a42c3245a74</td>\n",
       "      <td>110163d8bb94ae</td>\n",
       "      <td>1</td>\n",
       "      <td>0</td>\n",
       "      <td>68.00</td>\n",
       "      <td>0</td>\n",
       "      <td>0</td>\n",
       "      <td>0</td>\n",
       "      <td>47</td>\n",
       "      <td>0</td>\n",
       "      <td>0</td>\n",
       "      <td>0</td>\n",
       "      <td>0.00</td>\n",
       "      <td>1318</td>\n",
       "      <td>duo</td>\n",
       "      <td>50</td>\n",
       "      <td>47</td>\n",
       "      <td>1491</td>\n",
       "      <td>0</td>\n",
       "      <td>0.0000</td>\n",
       "      <td>0</td>\n",
       "      <td>0.00</td>\n",
       "      <td>0</td>\n",
       "      <td>0</td>\n",
       "      <td>161.80</td>\n",
       "      <td>2</td>\n",
       "      <td>0</td>\n",
       "      <td>0.7755</td>\n",
       "      <td>2</td>\n",
       "      <td>0</td>\n",
       "      <td>4</td>\n",
       "      <td>0</td>\n",
       "      <td>2</td>\n",
       "    </tr>\n",
       "    <tr>\n",
       "      <th>3</th>\n",
       "      <td>4616d365dd2853</td>\n",
       "      <td>a930a9c79cd721</td>\n",
       "      <td>f1f1f4ef412d7e</td>\n",
       "      <td>0</td>\n",
       "      <td>0</td>\n",
       "      <td>32.90</td>\n",
       "      <td>0</td>\n",
       "      <td>0</td>\n",
       "      <td>0</td>\n",
       "      <td>75</td>\n",
       "      <td>0</td>\n",
       "      <td>0</td>\n",
       "      <td>0</td>\n",
       "      <td>0.00</td>\n",
       "      <td>1436</td>\n",
       "      <td>squad-fpp</td>\n",
       "      <td>31</td>\n",
       "      <td>30</td>\n",
       "      <td>1408</td>\n",
       "      <td>0</td>\n",
       "      <td>0.0000</td>\n",
       "      <td>0</td>\n",
       "      <td>0.00</td>\n",
       "      <td>0</td>\n",
       "      <td>0</td>\n",
       "      <td>202.70</td>\n",
       "      <td>3</td>\n",
       "      <td>0</td>\n",
       "      <td>0.1667</td>\n",
       "      <td>0</td>\n",
       "      <td>0</td>\n",
       "      <td>3</td>\n",
       "      <td>0</td>\n",
       "      <td>15</td>\n",
       "    </tr>\n",
       "    <tr>\n",
       "      <th>4</th>\n",
       "      <td>315c96c26c9aac</td>\n",
       "      <td>de04010b3458dd</td>\n",
       "      <td>6dc8ff871e21e6</td>\n",
       "      <td>0</td>\n",
       "      <td>0</td>\n",
       "      <td>100.00</td>\n",
       "      <td>0</td>\n",
       "      <td>0</td>\n",
       "      <td>0</td>\n",
       "      <td>45</td>\n",
       "      <td>0</td>\n",
       "      <td>1</td>\n",
       "      <td>1</td>\n",
       "      <td>58.53</td>\n",
       "      <td>1424</td>\n",
       "      <td>solo-fpp</td>\n",
       "      <td>97</td>\n",
       "      <td>95</td>\n",
       "      <td>1560</td>\n",
       "      <td>0</td>\n",
       "      <td>0.0000</td>\n",
       "      <td>0</td>\n",
       "      <td>0.00</td>\n",
       "      <td>0</td>\n",
       "      <td>0</td>\n",
       "      <td>49.75</td>\n",
       "      <td>2</td>\n",
       "      <td>0</td>\n",
       "      <td>0.1875</td>\n",
       "      <td>1</td>\n",
       "      <td>0</td>\n",
       "      <td>2</td>\n",
       "      <td>0</td>\n",
       "      <td>13</td>\n",
       "    </tr>\n",
       "  </tbody>\n",
       "</table>\n",
       "</div>"
      ],
      "text/plain": [
       "               Id         groupId         matchId  assists  boosts  \\\n",
       "0  7f96b2f878858a  4d4b580de459be  a10357fd1a4a91        0       0   \n",
       "1  eef90569b9d03c  684d5656442f9e  aeb375fc57110c        0       0   \n",
       "2  1eaf90ac73de72  6a4a42c3245a74  110163d8bb94ae        1       0   \n",
       "3  4616d365dd2853  a930a9c79cd721  f1f1f4ef412d7e        0       0   \n",
       "4  315c96c26c9aac  de04010b3458dd  6dc8ff871e21e6        0       0   \n",
       "\n",
       "   damageDealt  DBNOs  headshotKills  heals  killPlace  killPoints  kills  \\\n",
       "0         0.00      0              0      0         60        1241      0   \n",
       "1        91.47      0              0      0         57           0      0   \n",
       "2        68.00      0              0      0         47           0      0   \n",
       "3        32.90      0              0      0         75           0      0   \n",
       "4       100.00      0              0      0         45           0      1   \n",
       "\n",
       "   killStreaks  longestKill  matchDuration  matchType  maxPlace  numGroups  \\\n",
       "0            0         0.00           1306  squad-fpp        28         26   \n",
       "1            0         0.00           1777  squad-fpp        26         25   \n",
       "2            0         0.00           1318        duo        50         47   \n",
       "3            0         0.00           1436  squad-fpp        31         30   \n",
       "4            1        58.53           1424   solo-fpp        97         95   \n",
       "\n",
       "   rankPoints  revives  rideDistance  roadKills  swimDistance  teamKills  \\\n",
       "0          -1        0        0.0000          0          0.00          0   \n",
       "1        1484        0        0.0045          0         11.04          0   \n",
       "2        1491        0        0.0000          0          0.00          0   \n",
       "3        1408        0        0.0000          0          0.00          0   \n",
       "4        1560        0        0.0000          0          0.00          0   \n",
       "\n",
       "   vehicleDestroys  walkDistance  weaponsAcquired  winPoints  winPlacePerc  \\\n",
       "0                0        244.80                1       1466        0.4444   \n",
       "1                0       1434.00                5          0        0.6400   \n",
       "2                0        161.80                2          0        0.7755   \n",
       "3                0        202.70                3          0        0.1667   \n",
       "4                0         49.75                2          0        0.1875   \n",
       "\n",
       "   groupKills  groupRevives  groupWeapons  groupOwnKills  matchtype  \n",
       "0           4             0             5              0         15  \n",
       "1           4             0            24              0         15  \n",
       "2           2             0             4              0          2  \n",
       "3           0             0             3              0         15  \n",
       "4           1             0             2              0         13  "
      ]
     },
     "execution_count": 52,
     "metadata": {},
     "output_type": "execute_result"
    }
   ],
   "source": [
    "df2.head()"
   ]
  },
  {
   "cell_type": "code",
   "execution_count": 53,
   "metadata": {
    "execution": {
     "iopub.execute_input": "2020-08-26T01:20:41.337154Z",
     "iopub.status.busy": "2020-08-26T01:20:41.335237Z",
     "iopub.status.idle": "2020-08-26T01:20:41.475805Z",
     "shell.execute_reply": "2020-08-26T01:20:41.474861Z"
    },
    "papermill": {
     "duration": 0.637649,
     "end_time": "2020-08-26T01:20:41.475980",
     "exception": false,
     "start_time": "2020-08-26T01:20:40.838331",
     "status": "completed"
    },
    "tags": []
   },
   "outputs": [],
   "source": [
    "pubg=df2.drop(columns=['Id','groupId','matchId','matchType'])  "
   ]
  },
  {
   "cell_type": "code",
   "execution_count": 54,
   "metadata": {
    "execution": {
     "iopub.execute_input": "2020-08-26T01:20:41.575100Z",
     "iopub.status.busy": "2020-08-26T01:20:41.573684Z",
     "iopub.status.idle": "2020-08-26T01:20:41.578362Z",
     "shell.execute_reply": "2020-08-26T01:20:41.577185Z"
    },
    "papermill": {
     "duration": 0.056611,
     "end_time": "2020-08-26T01:20:41.578568",
     "exception": false,
     "start_time": "2020-08-26T01:20:41.521957",
     "status": "completed"
    },
    "tags": []
   },
   "outputs": [],
   "source": [
    "del df2"
   ]
  },
  {
   "cell_type": "code",
   "execution_count": 55,
   "metadata": {
    "execution": {
     "iopub.execute_input": "2020-08-26T01:20:42.452053Z",
     "iopub.status.busy": "2020-08-26T01:20:42.436983Z",
     "iopub.status.idle": "2020-08-26T01:20:42.460749Z",
     "shell.execute_reply": "2020-08-26T01:20:42.459864Z"
    },
    "papermill": {
     "duration": 0.834053,
     "end_time": "2020-08-26T01:20:42.460913",
     "exception": false,
     "start_time": "2020-08-26T01:20:41.626860",
     "status": "completed"
    },
    "tags": []
   },
   "outputs": [],
   "source": [
    "pubg=pubg.drop(columns=['killPoints','matchDuration','maxPlace','numGroups','rankPoints'\n",
    "                        ,'winPoints','groupOwnKills','teamKills','vehicleDestroys'])\n",
    "\n",
    "#dropping the unnecessary columns"
   ]
  },
  {
   "cell_type": "markdown",
   "execution_count": null,
   "metadata": {
    "papermill": {
     "duration": 0.036914,
     "end_time": "2020-08-26T01:20:42.535261",
     "exception": false,
     "start_time": "2020-08-26T01:20:42.498347",
     "status": "completed"
    },
    "tags": []
   },
   "source": [
    "## Splitting the data"
   ]
  },
  {
   "cell_type": "code",
   "execution_count": 56,
   "metadata": {
    "execution": {
     "iopub.execute_input": "2020-08-26T01:20:42.617596Z",
     "iopub.status.busy": "2020-08-26T01:20:42.616487Z",
     "iopub.status.idle": "2020-08-26T01:20:42.783040Z",
     "shell.execute_reply": "2020-08-26T01:20:42.782285Z"
    },
    "papermill": {
     "duration": 0.209741,
     "end_time": "2020-08-26T01:20:42.783182",
     "exception": false,
     "start_time": "2020-08-26T01:20:42.573441",
     "status": "completed"
    },
    "tags": []
   },
   "outputs": [],
   "source": [
    "from sklearn.model_selection import train_test_split"
   ]
  },
  {
   "cell_type": "code",
   "execution_count": 57,
   "metadata": {
    "execution": {
     "iopub.execute_input": "2020-08-26T01:20:43.263674Z",
     "iopub.status.busy": "2020-08-26T01:20:43.248549Z",
     "iopub.status.idle": "2020-08-26T01:20:43.269288Z",
     "shell.execute_reply": "2020-08-26T01:20:43.268590Z"
    },
    "papermill": {
     "duration": 0.448557,
     "end_time": "2020-08-26T01:20:43.269452",
     "exception": false,
     "start_time": "2020-08-26T01:20:42.820895",
     "status": "completed"
    },
    "tags": []
   },
   "outputs": [],
   "source": [
    "x=pubg.drop(columns=['winPlacePerc'])\n",
    "y=pubg['winPlacePerc']"
   ]
  },
  {
   "cell_type": "code",
   "execution_count": 58,
   "metadata": {
    "execution": {
     "iopub.execute_input": "2020-08-26T01:20:43.352441Z",
     "iopub.status.busy": "2020-08-26T01:20:43.351600Z",
     "iopub.status.idle": "2020-08-26T01:20:46.579196Z",
     "shell.execute_reply": "2020-08-26T01:20:46.578212Z"
    },
    "papermill": {
     "duration": 3.272437,
     "end_time": "2020-08-26T01:20:46.579407",
     "exception": false,
     "start_time": "2020-08-26T01:20:43.306970",
     "status": "completed"
    },
    "tags": []
   },
   "outputs": [],
   "source": [
    "x_train, x_test, y_train, y_test = train_test_split(x, y, test_size=0.33, random_state=42)"
   ]
  },
  {
   "cell_type": "code",
   "execution_count": 59,
   "metadata": {
    "execution": {
     "iopub.execute_input": "2020-08-26T01:20:46.663654Z",
     "iopub.status.busy": "2020-08-26T01:20:46.662673Z",
     "iopub.status.idle": "2020-08-26T01:20:46.666391Z",
     "shell.execute_reply": "2020-08-26T01:20:46.665596Z"
    },
    "papermill": {
     "duration": 0.049407,
     "end_time": "2020-08-26T01:20:46.666544",
     "exception": false,
     "start_time": "2020-08-26T01:20:46.617137",
     "status": "completed"
    },
    "tags": []
   },
   "outputs": [],
   "source": [
    "del x\n",
    "del y"
   ]
  },
  {
   "cell_type": "code",
   "execution_count": 60,
   "metadata": {
    "execution": {
     "iopub.execute_input": "2020-08-26T01:20:46.749974Z",
     "iopub.status.busy": "2020-08-26T01:20:46.749048Z",
     "iopub.status.idle": "2020-08-26T01:20:54.972292Z",
     "shell.execute_reply": "2020-08-26T01:20:54.972991Z"
    },
    "papermill": {
     "duration": 8.269421,
     "end_time": "2020-08-26T01:20:54.973181",
     "exception": false,
     "start_time": "2020-08-26T01:20:46.703760",
     "status": "completed"
    },
    "tags": []
   },
   "outputs": [
    {
     "data": {
      "text/plain": [
       "<matplotlib.axes._subplots.AxesSubplot at 0x7f3c33a80ed0>"
      ]
     },
     "execution_count": 60,
     "metadata": {},
     "output_type": "execute_result"
    },
    {
     "data": {
      "image/png": "[encoded data removed]",
      "text/plain": [
       "<Figure size 1080x720 with 2 Axes>"
      ]
     },
     "metadata": {
      "needs_background": "light"
     },
     "output_type": "display_data"
    }
   ],
   "source": [
    "plt.figure(figsize=(15,10))\n",
    "sns.heatmap(pubg.corr(),annot=True)"
   ]
  },
  {
   "cell_type": "code",
   "execution_count": 61,
   "metadata": {
    "execution": {
     "iopub.execute_input": "2020-08-26T01:20:55.063871Z",
     "iopub.status.busy": "2020-08-26T01:20:55.062897Z",
     "iopub.status.idle": "2020-08-26T01:21:01.372866Z",
     "shell.execute_reply": "2020-08-26T01:21:01.371975Z"
    },
    "papermill": {
     "duration": 6.357674,
     "end_time": "2020-08-26T01:21:01.373028",
     "exception": false,
     "start_time": "2020-08-26T01:20:55.015354",
     "status": "completed"
    },
    "tags": []
   },
   "outputs": [
    {
     "data": {
      "text/plain": [
       "winPlacePerc       1.000000\n",
       "walkDistance       0.810888\n",
       "boosts             0.634234\n",
       "weaponsAcquired    0.583806\n",
       "damageDealt        0.440507\n",
       "heals              0.427857\n",
       "kills              0.419916\n",
       "longestKill        0.410154\n",
       "groupKills         0.399050\n",
       "killStreaks        0.377566\n",
       "rideDistance       0.342915\n",
       "groupRevives       0.313463\n",
       "assists            0.299441\n",
       "DBNOs              0.279970\n",
       "headshotKills      0.277722\n",
       "groupWeapons       0.271020\n",
       "revives            0.240881\n",
       "swimDistance       0.149607\n",
       "roadKills          0.034544\n",
       "matchtype         -0.028514\n",
       "killPlace         -0.719069\n",
       "Name: winPlacePerc, dtype: float64"
      ]
     },
     "execution_count": 61,
     "metadata": {},
     "output_type": "execute_result"
    }
   ],
   "source": [
    "corr_matrix = pubg.corr()\n",
    "corr_matrix[\"winPlacePerc\"].sort_values(ascending=False)\n",
    "\n",
    "#It seems that some of our new features are good correlated "
   ]
  },
  {
   "cell_type": "markdown",
   "execution_count": null,
   "metadata": {
    "papermill": {
     "duration": 0.039606,
     "end_time": "2020-08-26T01:21:01.454390",
     "exception": false,
     "start_time": "2020-08-26T01:21:01.414784",
     "status": "completed"
    },
    "tags": []
   },
   "source": [
    "# Linear Regression model"
   ]
  },
  {
   "cell_type": "code",
   "execution_count": 62,
   "metadata": {
    "execution": {
     "iopub.execute_input": "2020-08-26T01:21:01.543662Z",
     "iopub.status.busy": "2020-08-26T01:21:01.542643Z",
     "iopub.status.idle": "2020-08-26T01:21:04.606797Z",
     "shell.execute_reply": "2020-08-26T01:21:04.605503Z"
    },
    "papermill": {
     "duration": 3.111443,
     "end_time": "2020-08-26T01:21:04.607008",
     "exception": false,
     "start_time": "2020-08-26T01:21:01.495565",
     "status": "completed"
    },
    "tags": []
   },
   "outputs": [
    {
     "data": {
      "text/plain": [
       "LinearRegression()"
      ]
     },
     "execution_count": 62,
     "metadata": {},
     "output_type": "execute_result"
    }
   ],
   "source": [
    "from sklearn.linear_model import LinearRegression\n",
    "\n",
    "lin_reg = LinearRegression()\n",
    "lin_reg.fit(x_train, y_train)"
   ]
  },
  {
   "cell_type": "code",
   "execution_count": 63,
   "metadata": {
    "execution": {
     "iopub.execute_input": "2020-08-26T01:21:04.703177Z",
     "iopub.status.busy": "2020-08-26T01:21:04.702208Z",
     "iopub.status.idle": "2020-08-26T01:21:04.922603Z",
     "shell.execute_reply": "2020-08-26T01:21:04.921782Z"
    },
    "papermill": {
     "duration": 0.272342,
     "end_time": "2020-08-26T01:21:04.922777",
     "exception": false,
     "start_time": "2020-08-26T01:21:04.650435",
     "status": "completed"
    },
    "tags": []
   },
   "outputs": [
    {
     "data": {
      "text/plain": [
       "0.1300680711679003"
      ]
     },
     "execution_count": 63,
     "metadata": {},
     "output_type": "execute_result"
    }
   ],
   "source": [
    "from sklearn.metrics import mean_squared_error\n",
    "\n",
    "y_pred = lin_reg.predict(x_test)\n",
    "lin_mse = mean_squared_error(y_test, y_pred)\n",
    "lin_rmse = np.sqrt(lin_mse)\n",
    "lin_rmse"
   ]
  },
  {
   "cell_type": "code",
   "execution_count": 64,
   "metadata": {
    "execution": {
     "iopub.execute_input": "2020-08-26T01:21:05.015958Z",
     "iopub.status.busy": "2020-08-26T01:21:05.014806Z",
     "iopub.status.idle": "2020-08-26T01:21:05.018956Z",
     "shell.execute_reply": "2020-08-26T01:21:05.019582Z"
    },
    "papermill": {
     "duration": 0.055217,
     "end_time": "2020-08-26T01:21:05.019799",
     "exception": false,
     "start_time": "2020-08-26T01:21:04.964582",
     "status": "completed"
    },
    "tags": []
   },
   "outputs": [],
   "source": [
    "del lin_reg\n",
    "del lin_mse\n",
    "del lin_rmse"
   ]
  },
  {
   "cell_type": "markdown",
   "execution_count": null,
   "metadata": {
    "papermill": {
     "duration": 0.042528,
     "end_time": "2020-08-26T01:21:05.106252",
     "exception": false,
     "start_time": "2020-08-26T01:21:05.063724",
     "status": "completed"
    },
    "tags": []
   },
   "source": [
    "# Decision Tree model"
   ]
  },
  {
   "cell_type": "code",
   "execution_count": 65,
   "metadata": {
    "execution": {
     "iopub.execute_input": "2020-08-26T01:21:05.197046Z",
     "iopub.status.busy": "2020-08-26T01:21:05.196191Z",
     "iopub.status.idle": "2020-08-26T01:22:12.610173Z",
     "shell.execute_reply": "2020-08-26T01:22:12.610835Z"
    },
    "papermill": {
     "duration": 67.46255,
     "end_time": "2020-08-26T01:22:12.611064",
     "exception": false,
     "start_time": "2020-08-26T01:21:05.148514",
     "status": "completed"
    },
    "tags": []
   },
   "outputs": [
    {
     "data": {
      "text/plain": [
       "DecisionTreeRegressor(random_state=42)"
      ]
     },
     "execution_count": 65,
     "metadata": {},
     "output_type": "execute_result"
    }
   ],
   "source": [
    "from sklearn.tree import DecisionTreeRegressor\n",
    "\n",
    "tree_reg = DecisionTreeRegressor(random_state=42)\n",
    "tree_reg.fit(x_train, y_train)"
   ]
  },
  {
   "cell_type": "code",
   "execution_count": 66,
   "metadata": {
    "execution": {
     "iopub.execute_input": "2020-08-26T01:22:12.703996Z",
     "iopub.status.busy": "2020-08-26T01:22:12.703046Z",
     "iopub.status.idle": "2020-08-26T01:22:16.641951Z",
     "shell.execute_reply": "2020-08-26T01:22:16.641111Z"
    },
    "papermill": {
     "duration": 3.990062,
     "end_time": "2020-08-26T01:22:16.642101",
     "exception": false,
     "start_time": "2020-08-26T01:22:12.652039",
     "status": "completed"
    },
    "tags": []
   },
   "outputs": [
    {
     "data": {
      "text/plain": [
       "0.12788095788017537"
      ]
     },
     "execution_count": 66,
     "metadata": {},
     "output_type": "execute_result"
    }
   ],
   "source": [
    "y_pred = tree_reg.predict(x_test)\n",
    "tree_mse = mean_squared_error(y_test, y_pred)\n",
    "tree_rmse = np.sqrt(tree_mse)\n",
    "tree_rmse\n",
    "#great"
   ]
  },
  {
   "cell_type": "code",
   "execution_count": 67,
   "metadata": {
    "execution": {
     "iopub.execute_input": "2020-08-26T01:22:16.733802Z",
     "iopub.status.busy": "2020-08-26T01:22:16.732811Z",
     "iopub.status.idle": "2020-08-26T01:26:48.706852Z",
     "shell.execute_reply": "2020-08-26T01:26:48.705925Z"
    },
    "papermill": {
     "duration": 272.022898,
     "end_time": "2020-08-26T01:26:48.707018",
     "exception": false,
     "start_time": "2020-08-26T01:22:16.684120",
     "status": "completed"
    },
    "tags": []
   },
   "outputs": [],
   "source": [
    "from sklearn.model_selection import cross_val_score\n",
    "\n",
    "scores = cross_val_score(tree_reg, x_train, y_train,\n",
    "                         scoring=\"neg_mean_squared_error\", cv=5)"
   ]
  },
  {
   "cell_type": "code",
   "execution_count": 68,
   "metadata": {
    "execution": {
     "iopub.execute_input": "2020-08-26T01:26:48.797453Z",
     "iopub.status.busy": "2020-08-26T01:26:48.796539Z",
     "iopub.status.idle": "2020-08-26T01:26:48.801529Z",
     "shell.execute_reply": "2020-08-26T01:26:48.800738Z"
    },
    "papermill": {
     "duration": 0.053328,
     "end_time": "2020-08-26T01:26:48.801677",
     "exception": false,
     "start_time": "2020-08-26T01:26:48.748349",
     "status": "completed"
    },
    "tags": []
   },
   "outputs": [
    {
     "data": {
      "text/plain": [
       "array([0.01634767, 0.01636925, 0.01645195, 0.01646288, 0.01640754])"
      ]
     },
     "execution_count": 68,
     "metadata": {},
     "output_type": "execute_result"
    }
   ],
   "source": [
    "-scores"
   ]
  },
  {
   "cell_type": "code",
   "execution_count": 69,
   "metadata": {
    "execution": {
     "iopub.execute_input": "2020-08-26T01:26:48.891222Z",
     "iopub.status.busy": "2020-08-26T01:26:48.890238Z",
     "iopub.status.idle": "2020-08-26T01:26:48.894419Z",
     "shell.execute_reply": "2020-08-26T01:26:48.893691Z"
    },
    "papermill": {
     "duration": 0.051321,
     "end_time": "2020-08-26T01:26:48.894562",
     "exception": false,
     "start_time": "2020-08-26T01:26:48.843241",
     "status": "completed"
    },
    "tags": []
   },
   "outputs": [],
   "source": [
    "del scores"
   ]
  },
  {
   "cell_type": "markdown",
   "execution_count": null,
   "metadata": {
    "papermill": {
     "duration": 0.043555,
     "end_time": "2020-08-26T01:26:48.979559",
     "exception": false,
     "start_time": "2020-08-26T01:26:48.936004",
     "status": "completed"
    },
    "tags": []
   },
   "source": [
    "# Model tunning"
   ]
  },
  {
   "cell_type": "code",
   "execution_count": 70,
   "metadata": {
    "execution": {
     "iopub.execute_input": "2020-08-26T01:26:49.073649Z",
     "iopub.status.busy": "2020-08-26T01:26:49.072766Z",
     "iopub.status.idle": "2020-08-26T01:37:44.845154Z",
     "shell.execute_reply": "2020-08-26T01:37:44.845809Z"
    },
    "papermill": {
     "duration": 655.824154,
     "end_time": "2020-08-26T01:37:44.846021",
     "exception": false,
     "start_time": "2020-08-26T01:26:49.021867",
     "status": "completed"
    },
    "tags": []
   },
   "outputs": [
    {
     "data": {
      "text/plain": [
       "GridSearchCV(cv=5, estimator=DecisionTreeRegressor(random_state=42),\n",
       "             param_grid=[{'max_features': [6, 8, None]}],\n",
       "             return_train_score=True, scoring='neg_mean_squared_error')"
      ]
     },
     "execution_count": 70,
     "metadata": {},
     "output_type": "execute_result"
    }
   ],
   "source": [
    "from sklearn.model_selection import GridSearchCV\n",
    "\n",
    "param_grid = [\n",
    "    {'max_features': [6, 8,None]},\n",
    "  ]\n",
    "\n",
    "grid_search = GridSearchCV(tree_reg, param_grid, cv=5,\n",
    "                           scoring='neg_mean_squared_error',\n",
    "                           return_train_score=True)\n",
    "grid_search.fit(x_train, y_train)"
   ]
  },
  {
   "cell_type": "code",
   "execution_count": 71,
   "metadata": {
    "execution": {
     "iopub.execute_input": "2020-08-26T01:37:44.937040Z",
     "iopub.status.busy": "2020-08-26T01:37:44.935904Z",
     "iopub.status.idle": "2020-08-26T01:37:44.941410Z",
     "shell.execute_reply": "2020-08-26T01:37:44.940736Z"
    },
    "papermill": {
     "duration": 0.053937,
     "end_time": "2020-08-26T01:37:44.941555",
     "exception": false,
     "start_time": "2020-08-26T01:37:44.887618",
     "status": "completed"
    },
    "tags": []
   },
   "outputs": [
    {
     "data": {
      "text/plain": [
       "{'max_features': None}"
      ]
     },
     "execution_count": 71,
     "metadata": {},
     "output_type": "execute_result"
    }
   ],
   "source": [
    "grid_search.best_params_\n",
    "#I knew it"
   ]
  },
  {
   "cell_type": "code",
   "execution_count": 72,
   "metadata": {
    "execution": {
     "iopub.execute_input": "2020-08-26T01:37:45.736734Z",
     "iopub.status.busy": "2020-08-26T01:37:45.732834Z",
     "iopub.status.idle": "2020-08-26T01:39:30.239481Z",
     "shell.execute_reply": "2020-08-26T01:39:30.240115Z"
    },
    "papermill": {
     "duration": 105.255641,
     "end_time": "2020-08-26T01:39:30.240337",
     "exception": false,
     "start_time": "2020-08-26T01:37:44.984696",
     "status": "completed"
    },
    "tags": []
   },
   "outputs": [
    {
     "data": {
      "text/plain": [
       "DecisionTreeRegressor(random_state=42)"
      ]
     },
     "execution_count": 72,
     "metadata": {},
     "output_type": "execute_result"
    }
   ],
   "source": [
    "tree_reg = DecisionTreeRegressor(random_state=42)\n",
    "tree_reg.fit(pubg.drop(columns=['winPlacePerc']), pubg['winPlacePerc'])\n",
    "\n",
    "#Fitting the model with all the data and it's ready to go"
   ]
  },
  {
   "cell_type": "markdown",
   "execution_count": null,
   "metadata": {
    "papermill": {
     "duration": 0.041412,
     "end_time": "2020-08-26T01:39:30.323458",
     "exception": false,
     "start_time": "2020-08-26T01:39:30.282046",
     "status": "completed"
    },
    "tags": []
   },
   "source": [
    "## Handling the test set"
   ]
  },
  {
   "cell_type": "code",
   "execution_count": 73,
   "metadata": {
    "execution": {
     "iopub.execute_input": "2020-08-26T01:39:30.417657Z",
     "iopub.status.busy": "2020-08-26T01:39:30.416505Z",
     "iopub.status.idle": "2020-08-26T01:39:41.629027Z",
     "shell.execute_reply": "2020-08-26T01:39:41.628160Z"
    },
    "papermill": {
     "duration": 11.264217,
     "end_time": "2020-08-26T01:39:41.629225",
     "exception": false,
     "start_time": "2020-08-26T01:39:30.365008",
     "status": "completed"
    },
    "tags": []
   },
   "outputs": [],
   "source": [
    "df_test=pd.read_csv('/kaggle/input/pubg-finish-placement-prediction/test_V2.csv')"
   ]
  },
  {
   "cell_type": "code",
   "execution_count": 74,
   "metadata": {
    "execution": {
     "iopub.execute_input": "2020-08-26T01:39:41.724108Z",
     "iopub.status.busy": "2020-08-26T01:39:41.723019Z",
     "iopub.status.idle": "2020-08-26T01:39:49.650335Z",
     "shell.execute_reply": "2020-08-26T01:39:49.649594Z"
    },
    "papermill": {
     "duration": 7.978235,
     "end_time": "2020-08-26T01:39:49.650490",
     "exception": false,
     "start_time": "2020-08-26T01:39:41.672255",
     "status": "completed"
    },
    "tags": []
   },
   "outputs": [],
   "source": [
    "groups=df_test.groupby('groupId').sum()\n",
    "groups=groups.reset_index()"
   ]
  },
  {
   "cell_type": "code",
   "execution_count": 75,
   "metadata": {
    "execution": {
     "iopub.execute_input": "2020-08-26T01:39:49.745528Z",
     "iopub.status.busy": "2020-08-26T01:39:49.744395Z",
     "iopub.status.idle": "2020-08-26T01:39:55.023136Z",
     "shell.execute_reply": "2020-08-26T01:39:55.022288Z"
    },
    "papermill": {
     "duration": 5.330118,
     "end_time": "2020-08-26T01:39:55.023276",
     "exception": false,
     "start_time": "2020-08-26T01:39:49.693158",
     "status": "completed"
    },
    "tags": []
   },
   "outputs": [],
   "source": [
    "add_col=groups.loc[:,['groupId','kills','revives','weaponsAcquired','teamKills']]\n",
    "add_col=add_col.rename(columns={'kills':'groupKills','revives':'groupRevives','weaponsAcquired':'groupWeapons','teamKills':'groupOwnKills'})\n",
    "df2_test=df_test.merge(add_col,how='left',on=['groupId'])"
   ]
  },
  {
   "cell_type": "code",
   "execution_count": 76,
   "metadata": {
    "execution": {
     "iopub.execute_input": "2020-08-26T01:39:55.140641Z",
     "iopub.status.busy": "2020-08-26T01:39:55.138091Z",
     "iopub.status.idle": "2020-08-26T01:39:55.146801Z",
     "shell.execute_reply": "2020-08-26T01:39:55.146175Z"
    },
    "papermill": {
     "duration": 0.081517,
     "end_time": "2020-08-26T01:39:55.146952",
     "exception": false,
     "start_time": "2020-08-26T01:39:55.065435",
     "status": "completed"
    },
    "tags": []
   },
   "outputs": [
    {
     "data": {
      "text/html": [
       "<div>\n",
       "<style scoped>\n",
       "    .dataframe tbody tr th:only-of-type {\n",
       "        vertical-align: middle;\n",
       "    }\n",
       "\n",
       "    .dataframe tbody tr th {\n",
       "        vertical-align: top;\n",
       "    }\n",
       "\n",
       "    .dataframe thead th {\n",
       "        text-align: right;\n",
       "    }\n",
       "</style>\n",
       "<table border=\"1\" class=\"dataframe\">\n",
       "  <thead>\n",
       "    <tr style=\"text-align: right;\">\n",
       "      <th></th>\n",
       "      <th>Id</th>\n",
       "      <th>groupId</th>\n",
       "      <th>matchId</th>\n",
       "      <th>assists</th>\n",
       "      <th>boosts</th>\n",
       "      <th>damageDealt</th>\n",
       "      <th>DBNOs</th>\n",
       "      <th>headshotKills</th>\n",
       "      <th>heals</th>\n",
       "      <th>killPlace</th>\n",
       "      <th>killPoints</th>\n",
       "      <th>kills</th>\n",
       "      <th>killStreaks</th>\n",
       "      <th>longestKill</th>\n",
       "      <th>matchDuration</th>\n",
       "      <th>matchType</th>\n",
       "      <th>maxPlace</th>\n",
       "      <th>numGroups</th>\n",
       "      <th>rankPoints</th>\n",
       "      <th>revives</th>\n",
       "      <th>rideDistance</th>\n",
       "      <th>roadKills</th>\n",
       "      <th>swimDistance</th>\n",
       "      <th>teamKills</th>\n",
       "      <th>vehicleDestroys</th>\n",
       "      <th>walkDistance</th>\n",
       "      <th>weaponsAcquired</th>\n",
       "      <th>winPoints</th>\n",
       "      <th>groupKills</th>\n",
       "      <th>groupRevives</th>\n",
       "      <th>groupWeapons</th>\n",
       "      <th>groupOwnKills</th>\n",
       "    </tr>\n",
       "  </thead>\n",
       "  <tbody>\n",
       "    <tr>\n",
       "      <th>0</th>\n",
       "      <td>9329eb41e215eb</td>\n",
       "      <td>676b23c24e70d6</td>\n",
       "      <td>45b576ab7daa7f</td>\n",
       "      <td>0</td>\n",
       "      <td>0</td>\n",
       "      <td>51.46</td>\n",
       "      <td>0</td>\n",
       "      <td>0</td>\n",
       "      <td>0</td>\n",
       "      <td>73</td>\n",
       "      <td>0</td>\n",
       "      <td>0</td>\n",
       "      <td>0</td>\n",
       "      <td>0.00</td>\n",
       "      <td>1884</td>\n",
       "      <td>squad-fpp</td>\n",
       "      <td>28</td>\n",
       "      <td>28</td>\n",
       "      <td>1500</td>\n",
       "      <td>0</td>\n",
       "      <td>0.0</td>\n",
       "      <td>0</td>\n",
       "      <td>0.0</td>\n",
       "      <td>0</td>\n",
       "      <td>0</td>\n",
       "      <td>588.0</td>\n",
       "      <td>1</td>\n",
       "      <td>0</td>\n",
       "      <td>0</td>\n",
       "      <td>0</td>\n",
       "      <td>10</td>\n",
       "      <td>0</td>\n",
       "    </tr>\n",
       "    <tr>\n",
       "      <th>1</th>\n",
       "      <td>639bd0dcd7bda8</td>\n",
       "      <td>430933124148dd</td>\n",
       "      <td>42a9a0b906c928</td>\n",
       "      <td>0</td>\n",
       "      <td>4</td>\n",
       "      <td>179.10</td>\n",
       "      <td>0</td>\n",
       "      <td>0</td>\n",
       "      <td>2</td>\n",
       "      <td>11</td>\n",
       "      <td>0</td>\n",
       "      <td>2</td>\n",
       "      <td>1</td>\n",
       "      <td>361.90</td>\n",
       "      <td>1811</td>\n",
       "      <td>duo-fpp</td>\n",
       "      <td>48</td>\n",
       "      <td>47</td>\n",
       "      <td>1503</td>\n",
       "      <td>2</td>\n",
       "      <td>4669.0</td>\n",
       "      <td>0</td>\n",
       "      <td>0.0</td>\n",
       "      <td>0</td>\n",
       "      <td>0</td>\n",
       "      <td>2017.0</td>\n",
       "      <td>6</td>\n",
       "      <td>0</td>\n",
       "      <td>7</td>\n",
       "      <td>2</td>\n",
       "      <td>13</td>\n",
       "      <td>0</td>\n",
       "    </tr>\n",
       "    <tr>\n",
       "      <th>2</th>\n",
       "      <td>63d5c8ef8dfe91</td>\n",
       "      <td>0b45f5db20ba99</td>\n",
       "      <td>87e7e4477a048e</td>\n",
       "      <td>1</td>\n",
       "      <td>0</td>\n",
       "      <td>23.40</td>\n",
       "      <td>0</td>\n",
       "      <td>0</td>\n",
       "      <td>4</td>\n",
       "      <td>49</td>\n",
       "      <td>0</td>\n",
       "      <td>0</td>\n",
       "      <td>0</td>\n",
       "      <td>0.00</td>\n",
       "      <td>1793</td>\n",
       "      <td>squad-fpp</td>\n",
       "      <td>28</td>\n",
       "      <td>27</td>\n",
       "      <td>1565</td>\n",
       "      <td>0</td>\n",
       "      <td>0.0</td>\n",
       "      <td>0</td>\n",
       "      <td>0.0</td>\n",
       "      <td>0</td>\n",
       "      <td>0</td>\n",
       "      <td>787.8</td>\n",
       "      <td>4</td>\n",
       "      <td>0</td>\n",
       "      <td>12</td>\n",
       "      <td>0</td>\n",
       "      <td>15</td>\n",
       "      <td>0</td>\n",
       "    </tr>\n",
       "    <tr>\n",
       "      <th>3</th>\n",
       "      <td>cf5b81422591d1</td>\n",
       "      <td>b7497dbdc77f4a</td>\n",
       "      <td>1b9a94f1af67f1</td>\n",
       "      <td>0</td>\n",
       "      <td>0</td>\n",
       "      <td>65.52</td>\n",
       "      <td>0</td>\n",
       "      <td>0</td>\n",
       "      <td>0</td>\n",
       "      <td>54</td>\n",
       "      <td>0</td>\n",
       "      <td>0</td>\n",
       "      <td>0</td>\n",
       "      <td>0.00</td>\n",
       "      <td>1834</td>\n",
       "      <td>duo-fpp</td>\n",
       "      <td>45</td>\n",
       "      <td>44</td>\n",
       "      <td>1465</td>\n",
       "      <td>0</td>\n",
       "      <td>0.0</td>\n",
       "      <td>0</td>\n",
       "      <td>0.0</td>\n",
       "      <td>0</td>\n",
       "      <td>0</td>\n",
       "      <td>1812.0</td>\n",
       "      <td>3</td>\n",
       "      <td>0</td>\n",
       "      <td>0</td>\n",
       "      <td>0</td>\n",
       "      <td>8</td>\n",
       "      <td>0</td>\n",
       "    </tr>\n",
       "    <tr>\n",
       "      <th>4</th>\n",
       "      <td>ee6a295187ba21</td>\n",
       "      <td>6604ce20a1d230</td>\n",
       "      <td>40754a93016066</td>\n",
       "      <td>0</td>\n",
       "      <td>4</td>\n",
       "      <td>330.20</td>\n",
       "      <td>1</td>\n",
       "      <td>2</td>\n",
       "      <td>1</td>\n",
       "      <td>7</td>\n",
       "      <td>0</td>\n",
       "      <td>3</td>\n",
       "      <td>1</td>\n",
       "      <td>60.06</td>\n",
       "      <td>1326</td>\n",
       "      <td>squad-fpp</td>\n",
       "      <td>28</td>\n",
       "      <td>27</td>\n",
       "      <td>1480</td>\n",
       "      <td>1</td>\n",
       "      <td>0.0</td>\n",
       "      <td>0</td>\n",
       "      <td>0.0</td>\n",
       "      <td>0</td>\n",
       "      <td>0</td>\n",
       "      <td>2963.0</td>\n",
       "      <td>4</td>\n",
       "      <td>0</td>\n",
       "      <td>7</td>\n",
       "      <td>1</td>\n",
       "      <td>18</td>\n",
       "      <td>0</td>\n",
       "    </tr>\n",
       "  </tbody>\n",
       "</table>\n",
       "</div>"
      ],
      "text/plain": [
       "               Id         groupId         matchId  assists  boosts  \\\n",
       "0  9329eb41e215eb  676b23c24e70d6  45b576ab7daa7f        0       0   \n",
       "1  639bd0dcd7bda8  430933124148dd  42a9a0b906c928        0       4   \n",
       "2  63d5c8ef8dfe91  0b45f5db20ba99  87e7e4477a048e        1       0   \n",
       "3  cf5b81422591d1  b7497dbdc77f4a  1b9a94f1af67f1        0       0   \n",
       "4  ee6a295187ba21  6604ce20a1d230  40754a93016066        0       4   \n",
       "\n",
       "   damageDealt  DBNOs  headshotKills  heals  killPlace  killPoints  kills  \\\n",
       "0        51.46      0              0      0         73           0      0   \n",
       "1       179.10      0              0      2         11           0      2   \n",
       "2        23.40      0              0      4         49           0      0   \n",
       "3        65.52      0              0      0         54           0      0   \n",
       "4       330.20      1              2      1          7           0      3   \n",
       "\n",
       "   killStreaks  longestKill  matchDuration  matchType  maxPlace  numGroups  \\\n",
       "0            0         0.00           1884  squad-fpp        28         28   \n",
       "1            1       361.90           1811    duo-fpp        48         47   \n",
       "2            0         0.00           1793  squad-fpp        28         27   \n",
       "3            0         0.00           1834    duo-fpp        45         44   \n",
       "4            1        60.06           1326  squad-fpp        28         27   \n",
       "\n",
       "   rankPoints  revives  rideDistance  roadKills  swimDistance  teamKills  \\\n",
       "0        1500        0           0.0          0           0.0          0   \n",
       "1        1503        2        4669.0          0           0.0          0   \n",
       "2        1565        0           0.0          0           0.0          0   \n",
       "3        1465        0           0.0          0           0.0          0   \n",
       "4        1480        1           0.0          0           0.0          0   \n",
       "\n",
       "   vehicleDestroys  walkDistance  weaponsAcquired  winPoints  groupKills  \\\n",
       "0                0         588.0                1          0           0   \n",
       "1                0        2017.0                6          0           7   \n",
       "2                0         787.8                4          0          12   \n",
       "3                0        1812.0                3          0           0   \n",
       "4                0        2963.0                4          0           7   \n",
       "\n",
       "   groupRevives  groupWeapons  groupOwnKills  \n",
       "0             0            10              0  \n",
       "1             2            13              0  \n",
       "2             0            15              0  \n",
       "3             0             8              0  \n",
       "4             1            18              0  "
      ]
     },
     "execution_count": 76,
     "metadata": {},
     "output_type": "execute_result"
    }
   ],
   "source": [
    "df2_test.head()"
   ]
  },
  {
   "cell_type": "code",
   "execution_count": 77,
   "metadata": {
    "execution": {
     "iopub.execute_input": "2020-08-26T01:39:55.274809Z",
     "iopub.status.busy": "2020-08-26T01:39:55.273191Z",
     "iopub.status.idle": "2020-08-26T01:39:55.469543Z",
     "shell.execute_reply": "2020-08-26T01:39:55.468766Z"
    },
    "papermill": {
     "duration": 0.280716,
     "end_time": "2020-08-26T01:39:55.469707",
     "exception": false,
     "start_time": "2020-08-26T01:39:55.188991",
     "status": "completed"
    },
    "tags": []
   },
   "outputs": [],
   "source": [
    "df2_test['matchType']=df2_test.matchType.astype('category')\n",
    "df2_test['matchtype']=df2_test['matchType'].cat.codes"
   ]
  },
  {
   "cell_type": "code",
   "execution_count": 78,
   "metadata": {
    "execution": {
     "iopub.execute_input": "2020-08-26T01:39:55.566514Z",
     "iopub.status.busy": "2020-08-26T01:39:55.564266Z",
     "iopub.status.idle": "2020-08-26T01:39:56.978419Z",
     "shell.execute_reply": "2020-08-26T01:39:56.977482Z"
    },
    "papermill": {
     "duration": 1.46554,
     "end_time": "2020-08-26T01:39:56.978592",
     "exception": false,
     "start_time": "2020-08-26T01:39:55.513052",
     "status": "completed"
    },
    "tags": []
   },
   "outputs": [],
   "source": [
    "final=df2_test.drop(columns=['Id','groupId','matchId','matchType'])\n",
    "final=final.drop(columns=['killPoints','matchDuration','maxPlace','numGroups',\n",
    "                          'rankPoints','winPoints','groupOwnKills','teamKills','vehicleDestroys'])"
   ]
  },
  {
   "cell_type": "code",
   "execution_count": 79,
   "metadata": {
    "execution": {
     "iopub.execute_input": "2020-08-26T01:39:57.071059Z",
     "iopub.status.busy": "2020-08-26T01:39:57.070176Z",
     "iopub.status.idle": "2020-08-26T01:39:57.074077Z",
     "shell.execute_reply": "2020-08-26T01:39:57.073335Z"
    },
    "papermill": {
     "duration": 0.053161,
     "end_time": "2020-08-26T01:39:57.074213",
     "exception": false,
     "start_time": "2020-08-26T01:39:57.021052",
     "status": "completed"
    },
    "tags": []
   },
   "outputs": [],
   "source": [
    "Id=df2_test['Id']  #for submission"
   ]
  },
  {
   "cell_type": "code",
   "execution_count": 80,
   "metadata": {
    "execution": {
     "iopub.execute_input": "2020-08-26T01:39:57.170146Z",
     "iopub.status.busy": "2020-08-26T01:39:57.169258Z",
     "iopub.status.idle": "2020-08-26T01:40:02.588779Z",
     "shell.execute_reply": "2020-08-26T01:40:02.589396Z"
    },
    "papermill": {
     "duration": 5.472325,
     "end_time": "2020-08-26T01:40:02.589606",
     "exception": false,
     "start_time": "2020-08-26T01:39:57.117281",
     "status": "completed"
    },
    "tags": []
   },
   "outputs": [],
   "source": [
    "winPlacePerc = tree_reg.predict(final)  #our prediction"
   ]
  },
  {
   "cell_type": "code",
   "execution_count": 81,
   "metadata": {
    "execution": {
     "iopub.execute_input": "2020-08-26T01:40:02.682059Z",
     "iopub.status.busy": "2020-08-26T01:40:02.681080Z",
     "iopub.status.idle": "2020-08-26T01:40:02.744048Z",
     "shell.execute_reply": "2020-08-26T01:40:02.743130Z"
    },
    "papermill": {
     "duration": 0.112062,
     "end_time": "2020-08-26T01:40:02.744236",
     "exception": false,
     "start_time": "2020-08-26T01:40:02.632174",
     "status": "completed"
    },
    "tags": []
   },
   "outputs": [],
   "source": [
    "pred =pd.concat([Id,pd.Series(winPlacePerc)],axis=1)"
   ]
  },
  {
   "cell_type": "code",
   "execution_count": 82,
   "metadata": {
    "execution": {
     "iopub.execute_input": "2020-08-26T01:40:02.836450Z",
     "iopub.status.busy": "2020-08-26T01:40:02.835563Z",
     "iopub.status.idle": "2020-08-26T01:40:02.888118Z",
     "shell.execute_reply": "2020-08-26T01:40:02.887449Z"
    },
    "papermill": {
     "duration": 0.101637,
     "end_time": "2020-08-26T01:40:02.888279",
     "exception": false,
     "start_time": "2020-08-26T01:40:02.786642",
     "status": "completed"
    },
    "tags": []
   },
   "outputs": [],
   "source": [
    "pred=pred.rename(columns={0:'winPlacePerc'})"
   ]
  },
  {
   "cell_type": "code",
   "execution_count": 83,
   "metadata": {
    "execution": {
     "iopub.execute_input": "2020-08-26T01:40:02.980561Z",
     "iopub.status.busy": "2020-08-26T01:40:02.979763Z",
     "iopub.status.idle": "2020-08-26T01:40:10.668608Z",
     "shell.execute_reply": "2020-08-26T01:40:10.667746Z"
    },
    "papermill": {
     "duration": 7.737693,
     "end_time": "2020-08-26T01:40:10.668769",
     "exception": false,
     "start_time": "2020-08-26T01:40:02.931076",
     "status": "completed"
    },
    "tags": []
   },
   "outputs": [],
   "source": [
    "pred.to_csv('submission.csv',index=False) "
   ]
  }
 ],
 "metadata": {
  "kernelspec": {
   "display_name": "Python 3",
   "language": "python",
   "name": "python3"
  },
  "language_info": {
   "codemirror_mode": {
    "name": "ipython",
    "version": 3
   },
   "file_extension": ".py",
   "mimetype": "text/x-python",
   "name": "python",
   "nbconvert_exporter": "python",
   "pygments_lexer": "ipython3",
   "version": "3.7.6"
  },
  "papermill": {
   "duration": 2454.160652,
   "end_time": "2020-08-26T01:40:11.832103",
   "environment_variables": {},
   "exception": null,
   "input_path": "__notebook__.ipynb",
   "output_path": "__notebook__.ipynb",
   "parameters": {},
   "start_time": "2020-08-26T00:59:17.671451",
   "version": "2.1.0"
  }
 },
 "nbformat": 4,
 "nbformat_minor": 4
}
